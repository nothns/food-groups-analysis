{
 "cells": [
  {
   "cell_type": "code",
   "execution_count": 104,
   "metadata": {
    "collapsed": true
   },
   "outputs": [],
   "source": [
    "import pandas as pd\n",
    "import numpy as np"
   ]
  },
  {
   "cell_type": "code",
   "execution_count": 105,
   "outputs": [
    {
     "data": {
      "text/plain": "  Public Food Key  Classification                      Food Name  \\\n0         F002258         31302.0   Cardamom seed, dried, ground   \n1         F002893         31302.0  Chilli (chili), dried, ground   \n2         F002963         31302.0        Cinnamon, dried, ground   \n3         F002970         31302.0          Cloves, dried, ground   \n4         F003190         31302.0  Coriander seed, dried, ground   \n\n   Energy with dietary fibre, equated \\n(kJ)  \\\n0                                       1236   \n1                                       1280   \n2                                       1004   \n3                                       1389   \n4                                       1344   \n\n   Energy, without dietary fibre, equated \\n(kJ)  Moisture (water) \\n(g)  \\\n0                                           1012                     8.3   \n1                                           1002                    10.8   \n2                                            579                    10.6   \n3                                           1118                     9.9   \n4                                           1009                     8.9   \n\n   Protein \\n(g)  Nitrogen \\n(g)  Fat, total \\n(g)  Ash \\n(g)  ...  \\\n0           10.8            1.72               6.7        5.8  ...   \n1           13.4            2.14              14.3       11.8  ...   \n2            4.0            0.64               1.2        3.6  ...   \n3            6.0            0.96              13.0        5.6  ...   \n4           12.4            1.98              17.8        6.0  ...   \n\n   Leucine \\n(mg)  Lysine \\n(mg)  Methionine \\n(mg)  Phenylalanine \\n(mg)  \\\n0             NaN            NaN                NaN                   NaN   \n1             NaN            NaN                NaN                   NaN   \n2             NaN            NaN                NaN                   NaN   \n3             NaN            NaN                NaN                   NaN   \n4             NaN            NaN                NaN                   NaN   \n\n   Proline \\n(mg)  Serine \\n(mg)  Threonine \\n(mg)  Tyrosine \\n(mg)  \\\n0             NaN            NaN               NaN              NaN   \n1             NaN            NaN               NaN              NaN   \n2             NaN            NaN               NaN              NaN   \n3             NaN            NaN               NaN              NaN   \n4             NaN            NaN               NaN              NaN   \n\n   Tryptophan \\n(mg)  Valine \\n(mg)  \n0                155            NaN  \n1                 69            NaN  \n2                 49            NaN  \n3                 30            NaN  \n4                178            NaN  \n\n[5 rows x 293 columns]",
      "text/html": "<div>\n<style scoped>\n    .dataframe tbody tr th:only-of-type {\n        vertical-align: middle;\n    }\n\n    .dataframe tbody tr th {\n        vertical-align: top;\n    }\n\n    .dataframe thead th {\n        text-align: right;\n    }\n</style>\n<table border=\"1\" class=\"dataframe\">\n  <thead>\n    <tr style=\"text-align: right;\">\n      <th></th>\n      <th>Public Food Key</th>\n      <th>Classification</th>\n      <th>Food Name</th>\n      <th>Energy with dietary fibre, equated \\n(kJ)</th>\n      <th>Energy, without dietary fibre, equated \\n(kJ)</th>\n      <th>Moisture (water) \\n(g)</th>\n      <th>Protein \\n(g)</th>\n      <th>Nitrogen \\n(g)</th>\n      <th>Fat, total \\n(g)</th>\n      <th>Ash \\n(g)</th>\n      <th>...</th>\n      <th>Leucine \\n(mg)</th>\n      <th>Lysine \\n(mg)</th>\n      <th>Methionine \\n(mg)</th>\n      <th>Phenylalanine \\n(mg)</th>\n      <th>Proline \\n(mg)</th>\n      <th>Serine \\n(mg)</th>\n      <th>Threonine \\n(mg)</th>\n      <th>Tyrosine \\n(mg)</th>\n      <th>Tryptophan \\n(mg)</th>\n      <th>Valine \\n(mg)</th>\n    </tr>\n  </thead>\n  <tbody>\n    <tr>\n      <th>0</th>\n      <td>F002258</td>\n      <td>31302.0</td>\n      <td>Cardamom seed, dried, ground</td>\n      <td>1236</td>\n      <td>1012</td>\n      <td>8.3</td>\n      <td>10.8</td>\n      <td>1.72</td>\n      <td>6.7</td>\n      <td>5.8</td>\n      <td>...</td>\n      <td>NaN</td>\n      <td>NaN</td>\n      <td>NaN</td>\n      <td>NaN</td>\n      <td>NaN</td>\n      <td>NaN</td>\n      <td>NaN</td>\n      <td>NaN</td>\n      <td>155</td>\n      <td>NaN</td>\n    </tr>\n    <tr>\n      <th>1</th>\n      <td>F002893</td>\n      <td>31302.0</td>\n      <td>Chilli (chili), dried, ground</td>\n      <td>1280</td>\n      <td>1002</td>\n      <td>10.8</td>\n      <td>13.4</td>\n      <td>2.14</td>\n      <td>14.3</td>\n      <td>11.8</td>\n      <td>...</td>\n      <td>NaN</td>\n      <td>NaN</td>\n      <td>NaN</td>\n      <td>NaN</td>\n      <td>NaN</td>\n      <td>NaN</td>\n      <td>NaN</td>\n      <td>NaN</td>\n      <td>69</td>\n      <td>NaN</td>\n    </tr>\n    <tr>\n      <th>2</th>\n      <td>F002963</td>\n      <td>31302.0</td>\n      <td>Cinnamon, dried, ground</td>\n      <td>1004</td>\n      <td>579</td>\n      <td>10.6</td>\n      <td>4.0</td>\n      <td>0.64</td>\n      <td>1.2</td>\n      <td>3.6</td>\n      <td>...</td>\n      <td>NaN</td>\n      <td>NaN</td>\n      <td>NaN</td>\n      <td>NaN</td>\n      <td>NaN</td>\n      <td>NaN</td>\n      <td>NaN</td>\n      <td>NaN</td>\n      <td>49</td>\n      <td>NaN</td>\n    </tr>\n    <tr>\n      <th>3</th>\n      <td>F002970</td>\n      <td>31302.0</td>\n      <td>Cloves, dried, ground</td>\n      <td>1389</td>\n      <td>1118</td>\n      <td>9.9</td>\n      <td>6.0</td>\n      <td>0.96</td>\n      <td>13.0</td>\n      <td>5.6</td>\n      <td>...</td>\n      <td>NaN</td>\n      <td>NaN</td>\n      <td>NaN</td>\n      <td>NaN</td>\n      <td>NaN</td>\n      <td>NaN</td>\n      <td>NaN</td>\n      <td>NaN</td>\n      <td>30</td>\n      <td>NaN</td>\n    </tr>\n    <tr>\n      <th>4</th>\n      <td>F003190</td>\n      <td>31302.0</td>\n      <td>Coriander seed, dried, ground</td>\n      <td>1344</td>\n      <td>1009</td>\n      <td>8.9</td>\n      <td>12.4</td>\n      <td>1.98</td>\n      <td>17.8</td>\n      <td>6.0</td>\n      <td>...</td>\n      <td>NaN</td>\n      <td>NaN</td>\n      <td>NaN</td>\n      <td>NaN</td>\n      <td>NaN</td>\n      <td>NaN</td>\n      <td>NaN</td>\n      <td>NaN</td>\n      <td>178</td>\n      <td>NaN</td>\n    </tr>\n  </tbody>\n</table>\n<p>5 rows × 293 columns</p>\n</div>"
     },
     "execution_count": 105,
     "metadata": {},
     "output_type": "execute_result"
    }
   ],
   "source": [
    "df = pd.read_excel(\"source.xlsx\", sheet_name=\"All solids & liquids per 100g\")\n",
    "df.head()"
   ],
   "metadata": {
    "collapsed": false
   }
  },
  {
   "cell_type": "code",
   "execution_count": 106,
   "outputs": [
    {
     "data": {
      "text/plain": "  Public Food Key  Classification                     Food Name  \\\n0         F002258         31302.0  Cardamom seed, dried, ground   \n\n   Energy with dietary fibre, equated \\n(kJ)  \\\n0                                       1236   \n\n   Energy, without dietary fibre, equated \\n(kJ)  Moisture (water) \\n(g)  \\\n0                                           1012                     8.3   \n\n   Protein \\n(g)  Nitrogen \\n(g)  Fat, total \\n(g)  Ash \\n(g)  ...  \\\n0           10.8            1.72               6.7        5.8  ...   \n\n   Leucine \\n(mg)  Lysine \\n(mg)  Methionine \\n(mg)  Phenylalanine \\n(mg)  \\\n0             NaN            NaN                NaN                   NaN   \n\n   Proline \\n(mg)  Serine \\n(mg)  Threonine \\n(mg)  Tyrosine \\n(mg)  \\\n0             NaN            NaN               NaN              NaN   \n\n   Tryptophan \\n(mg)  Valine \\n(mg)  \n0                155            NaN  \n\n[1 rows x 293 columns]",
      "text/html": "<div>\n<style scoped>\n    .dataframe tbody tr th:only-of-type {\n        vertical-align: middle;\n    }\n\n    .dataframe tbody tr th {\n        vertical-align: top;\n    }\n\n    .dataframe thead th {\n        text-align: right;\n    }\n</style>\n<table border=\"1\" class=\"dataframe\">\n  <thead>\n    <tr style=\"text-align: right;\">\n      <th></th>\n      <th>Public Food Key</th>\n      <th>Classification</th>\n      <th>Food Name</th>\n      <th>Energy with dietary fibre, equated \\n(kJ)</th>\n      <th>Energy, without dietary fibre, equated \\n(kJ)</th>\n      <th>Moisture (water) \\n(g)</th>\n      <th>Protein \\n(g)</th>\n      <th>Nitrogen \\n(g)</th>\n      <th>Fat, total \\n(g)</th>\n      <th>Ash \\n(g)</th>\n      <th>...</th>\n      <th>Leucine \\n(mg)</th>\n      <th>Lysine \\n(mg)</th>\n      <th>Methionine \\n(mg)</th>\n      <th>Phenylalanine \\n(mg)</th>\n      <th>Proline \\n(mg)</th>\n      <th>Serine \\n(mg)</th>\n      <th>Threonine \\n(mg)</th>\n      <th>Tyrosine \\n(mg)</th>\n      <th>Tryptophan \\n(mg)</th>\n      <th>Valine \\n(mg)</th>\n    </tr>\n  </thead>\n  <tbody>\n    <tr>\n      <th>0</th>\n      <td>F002258</td>\n      <td>31302.0</td>\n      <td>Cardamom seed, dried, ground</td>\n      <td>1236</td>\n      <td>1012</td>\n      <td>8.3</td>\n      <td>10.8</td>\n      <td>1.72</td>\n      <td>6.7</td>\n      <td>5.8</td>\n      <td>...</td>\n      <td>NaN</td>\n      <td>NaN</td>\n      <td>NaN</td>\n      <td>NaN</td>\n      <td>NaN</td>\n      <td>NaN</td>\n      <td>NaN</td>\n      <td>NaN</td>\n      <td>155</td>\n      <td>NaN</td>\n    </tr>\n  </tbody>\n</table>\n<p>1 rows × 293 columns</p>\n</div>"
     },
     "execution_count": 106,
     "metadata": {},
     "output_type": "execute_result"
    }
   ],
   "source": [
    "df[df[\"Food Name\"] == \"Cardamom seed, dried, ground\"]"
   ],
   "metadata": {
    "collapsed": false
   }
  },
  {
   "cell_type": "code",
   "execution_count": 107,
   "outputs": [
    {
     "data": {
      "text/plain": "                                              Food Name  Calcium (Ca) \\n(mg)  \\\n0                          Cardamom seed, dried, ground                  383   \n1                         Chilli (chili), dried, ground                  330   \n2                               Cinnamon, dried, ground                 1002   \n3                                 Cloves, dried, ground                  632   \n4                         Coriander seed, dried, ground                  709   \n...                                                 ...                  ...   \n1611  Zucchini, green skin, fresh, unpeeled, fried, ...                   25   \n1612  Zucchini, green skin, fresh, unpeeled, boiled,...                   20   \n1613             Zucchini, golden, fresh, unpeeled, raw                   16   \n1614  Zucchini, golden, fresh, unpeeled, fried, no a...                   23   \n1615  Zucchini, golden, fresh, unpeeled, boiled, dra...                   18   \n\n      Iron (Fe) \\n(mg)  Magnesium (Mg) \\n(mg)  Phosphorus (P) \\n(mg)  \\\n0                13.97                    229                    178   \n1                17.30                    149                    300   \n2                 8.32                     60                     64   \n3                11.83                    259                    104   \n4                16.32                    330                    409   \n...                ...                    ...                    ...   \n1611              0.71                     23                     48   \n1612              0.56                     18                     36   \n1613              0.40                     10                     34   \n1614              0.57                     14                     48   \n1615              0.45                     11                     36   \n\n      Potassium (K) \\n(mg)  Sodium (Na) \\n(mg)  Zinc (Zn) \\n(mg)  \\\n0                     1119                  18              7.47   \n1                     1950                2867              4.30   \n2                      431                  10              1.83   \n3                     1020                 277              2.32   \n4                     1267                  35              4.70   \n...                    ...                 ...               ...   \n1611                   268                   1              0.47   \n1612                   201                   1              0.37   \n1613                   230                   1              0.70   \n1614                   328                   1              1.00   \n1615                   246                   1              0.79   \n\n      Copper (Cu) \\n(mg)  Manganese (Mn) \\n(mg)  ...  \\\n0                  0.000                  0.000  ...   \n1                  0.000                  0.000  ...   \n2                  0.000                  0.000  ...   \n3                  0.000                  0.000  ...   \n4                  0.000                  0.000  ...   \n...                  ...                    ...  ...   \n1611               0.095                  0.193  ...   \n1612               0.079                  0.161  ...   \n1613               0.000                  0.000  ...   \n1614               0.000                  0.000  ...   \n1615               0.000                  0.000  ...   \n\n      Vitamin A retinol equivalents \\n(ug)  Vitamin E \\n(mg)  \\\n0                                        4              2.85   \n1                                     2500             38.14   \n2                                       19              2.32   \n3                                        8              8.82   \n4                                       20              0.91   \n...                                    ...               ...   \n1611                                    60              0.70   \n1612                                    50              0.59   \n1613                                    18              0.52   \n1614                                    22              0.70   \n1615                                    20              0.59   \n\n      Vitamin D3 equivalents \\n(ug)  Vitamin C \\n(mg)  Thiamin (B1) \\n(mg)  \\\n0                               0.0                21                0.198   \n1                               0.0                 1                0.250   \n2                               0.0                 4                0.022   \n3                               0.0                 0                0.216   \n4                               0.0                21                0.239   \n...                             ...               ...                  ...   \n1611                            0.0                29                0.038   \n1612                            0.0                21                0.028   \n1613                            0.0                30                0.040   \n1614                            0.0                36                0.048   \n1615                            0.0                27                0.038   \n\n      Riboflavin (B2) \\n(mg)  Niacin (B3) \\n(mg)  Pyridoxine (B6) \\n(mg)  \\\n0                      0.182                1.10                    0.23   \n1                      0.940               11.60                    2.09   \n2                      0.041                1.33                    0.16   \n3                      0.220                1.56                    0.39   \n4                      0.290                2.13                    0.04   \n...                      ...                 ...                     ...   \n1611                   0.081                0.81                    0.04   \n1612                   0.064                0.61                    0.03   \n1613                   0.060                0.60                    0.03   \n1614                   0.081                0.77                    0.04   \n1615                   0.064                0.61                    0.03   \n\n      Cobalamin (B12) \\n(ug)  Folate, natural \\n(ug)  \n0                        0.0                       3  \n1                        0.0                      28  \n2                        0.0                       6  \n3                        0.0                      25  \n4                        0.0                       0  \n...                      ...                     ...  \n1611                     0.0                      19  \n1612                     0.0                      13  \n1613                     0.0                      17  \n1614                     0.0                      17  \n1615                     0.0                      13  \n\n[1616 rows x 21 columns]",
      "text/html": "<div>\n<style scoped>\n    .dataframe tbody tr th:only-of-type {\n        vertical-align: middle;\n    }\n\n    .dataframe tbody tr th {\n        vertical-align: top;\n    }\n\n    .dataframe thead th {\n        text-align: right;\n    }\n</style>\n<table border=\"1\" class=\"dataframe\">\n  <thead>\n    <tr style=\"text-align: right;\">\n      <th></th>\n      <th>Food Name</th>\n      <th>Calcium (Ca) \\n(mg)</th>\n      <th>Iron (Fe) \\n(mg)</th>\n      <th>Magnesium (Mg) \\n(mg)</th>\n      <th>Phosphorus (P) \\n(mg)</th>\n      <th>Potassium (K) \\n(mg)</th>\n      <th>Sodium (Na) \\n(mg)</th>\n      <th>Zinc (Zn) \\n(mg)</th>\n      <th>Copper (Cu) \\n(mg)</th>\n      <th>Manganese (Mn) \\n(mg)</th>\n      <th>...</th>\n      <th>Vitamin A retinol equivalents \\n(ug)</th>\n      <th>Vitamin E \\n(mg)</th>\n      <th>Vitamin D3 equivalents \\n(ug)</th>\n      <th>Vitamin C \\n(mg)</th>\n      <th>Thiamin (B1) \\n(mg)</th>\n      <th>Riboflavin (B2) \\n(mg)</th>\n      <th>Niacin (B3) \\n(mg)</th>\n      <th>Pyridoxine (B6) \\n(mg)</th>\n      <th>Cobalamin (B12) \\n(ug)</th>\n      <th>Folate, natural \\n(ug)</th>\n    </tr>\n  </thead>\n  <tbody>\n    <tr>\n      <th>0</th>\n      <td>Cardamom seed, dried, ground</td>\n      <td>383</td>\n      <td>13.97</td>\n      <td>229</td>\n      <td>178</td>\n      <td>1119</td>\n      <td>18</td>\n      <td>7.47</td>\n      <td>0.000</td>\n      <td>0.000</td>\n      <td>...</td>\n      <td>4</td>\n      <td>2.85</td>\n      <td>0.0</td>\n      <td>21</td>\n      <td>0.198</td>\n      <td>0.182</td>\n      <td>1.10</td>\n      <td>0.23</td>\n      <td>0.0</td>\n      <td>3</td>\n    </tr>\n    <tr>\n      <th>1</th>\n      <td>Chilli (chili), dried, ground</td>\n      <td>330</td>\n      <td>17.30</td>\n      <td>149</td>\n      <td>300</td>\n      <td>1950</td>\n      <td>2867</td>\n      <td>4.30</td>\n      <td>0.000</td>\n      <td>0.000</td>\n      <td>...</td>\n      <td>2500</td>\n      <td>38.14</td>\n      <td>0.0</td>\n      <td>1</td>\n      <td>0.250</td>\n      <td>0.940</td>\n      <td>11.60</td>\n      <td>2.09</td>\n      <td>0.0</td>\n      <td>28</td>\n    </tr>\n    <tr>\n      <th>2</th>\n      <td>Cinnamon, dried, ground</td>\n      <td>1002</td>\n      <td>8.32</td>\n      <td>60</td>\n      <td>64</td>\n      <td>431</td>\n      <td>10</td>\n      <td>1.83</td>\n      <td>0.000</td>\n      <td>0.000</td>\n      <td>...</td>\n      <td>19</td>\n      <td>2.32</td>\n      <td>0.0</td>\n      <td>4</td>\n      <td>0.022</td>\n      <td>0.041</td>\n      <td>1.33</td>\n      <td>0.16</td>\n      <td>0.0</td>\n      <td>6</td>\n    </tr>\n    <tr>\n      <th>3</th>\n      <td>Cloves, dried, ground</td>\n      <td>632</td>\n      <td>11.83</td>\n      <td>259</td>\n      <td>104</td>\n      <td>1020</td>\n      <td>277</td>\n      <td>2.32</td>\n      <td>0.000</td>\n      <td>0.000</td>\n      <td>...</td>\n      <td>8</td>\n      <td>8.82</td>\n      <td>0.0</td>\n      <td>0</td>\n      <td>0.216</td>\n      <td>0.220</td>\n      <td>1.56</td>\n      <td>0.39</td>\n      <td>0.0</td>\n      <td>25</td>\n    </tr>\n    <tr>\n      <th>4</th>\n      <td>Coriander seed, dried, ground</td>\n      <td>709</td>\n      <td>16.32</td>\n      <td>330</td>\n      <td>409</td>\n      <td>1267</td>\n      <td>35</td>\n      <td>4.70</td>\n      <td>0.000</td>\n      <td>0.000</td>\n      <td>...</td>\n      <td>20</td>\n      <td>0.91</td>\n      <td>0.0</td>\n      <td>21</td>\n      <td>0.239</td>\n      <td>0.290</td>\n      <td>2.13</td>\n      <td>0.04</td>\n      <td>0.0</td>\n      <td>0</td>\n    </tr>\n    <tr>\n      <th>...</th>\n      <td>...</td>\n      <td>...</td>\n      <td>...</td>\n      <td>...</td>\n      <td>...</td>\n      <td>...</td>\n      <td>...</td>\n      <td>...</td>\n      <td>...</td>\n      <td>...</td>\n      <td>...</td>\n      <td>...</td>\n      <td>...</td>\n      <td>...</td>\n      <td>...</td>\n      <td>...</td>\n      <td>...</td>\n      <td>...</td>\n      <td>...</td>\n      <td>...</td>\n      <td>...</td>\n    </tr>\n    <tr>\n      <th>1611</th>\n      <td>Zucchini, green skin, fresh, unpeeled, fried, ...</td>\n      <td>25</td>\n      <td>0.71</td>\n      <td>23</td>\n      <td>48</td>\n      <td>268</td>\n      <td>1</td>\n      <td>0.47</td>\n      <td>0.095</td>\n      <td>0.193</td>\n      <td>...</td>\n      <td>60</td>\n      <td>0.70</td>\n      <td>0.0</td>\n      <td>29</td>\n      <td>0.038</td>\n      <td>0.081</td>\n      <td>0.81</td>\n      <td>0.04</td>\n      <td>0.0</td>\n      <td>19</td>\n    </tr>\n    <tr>\n      <th>1612</th>\n      <td>Zucchini, green skin, fresh, unpeeled, boiled,...</td>\n      <td>20</td>\n      <td>0.56</td>\n      <td>18</td>\n      <td>36</td>\n      <td>201</td>\n      <td>1</td>\n      <td>0.37</td>\n      <td>0.079</td>\n      <td>0.161</td>\n      <td>...</td>\n      <td>50</td>\n      <td>0.59</td>\n      <td>0.0</td>\n      <td>21</td>\n      <td>0.028</td>\n      <td>0.064</td>\n      <td>0.61</td>\n      <td>0.03</td>\n      <td>0.0</td>\n      <td>13</td>\n    </tr>\n    <tr>\n      <th>1613</th>\n      <td>Zucchini, golden, fresh, unpeeled, raw</td>\n      <td>16</td>\n      <td>0.40</td>\n      <td>10</td>\n      <td>34</td>\n      <td>230</td>\n      <td>1</td>\n      <td>0.70</td>\n      <td>0.000</td>\n      <td>0.000</td>\n      <td>...</td>\n      <td>18</td>\n      <td>0.52</td>\n      <td>0.0</td>\n      <td>30</td>\n      <td>0.040</td>\n      <td>0.060</td>\n      <td>0.60</td>\n      <td>0.03</td>\n      <td>0.0</td>\n      <td>17</td>\n    </tr>\n    <tr>\n      <th>1614</th>\n      <td>Zucchini, golden, fresh, unpeeled, fried, no a...</td>\n      <td>23</td>\n      <td>0.57</td>\n      <td>14</td>\n      <td>48</td>\n      <td>328</td>\n      <td>1</td>\n      <td>1.00</td>\n      <td>0.000</td>\n      <td>0.000</td>\n      <td>...</td>\n      <td>22</td>\n      <td>0.70</td>\n      <td>0.0</td>\n      <td>36</td>\n      <td>0.048</td>\n      <td>0.081</td>\n      <td>0.77</td>\n      <td>0.04</td>\n      <td>0.0</td>\n      <td>17</td>\n    </tr>\n    <tr>\n      <th>1615</th>\n      <td>Zucchini, golden, fresh, unpeeled, boiled, dra...</td>\n      <td>18</td>\n      <td>0.45</td>\n      <td>11</td>\n      <td>36</td>\n      <td>246</td>\n      <td>1</td>\n      <td>0.79</td>\n      <td>0.000</td>\n      <td>0.000</td>\n      <td>...</td>\n      <td>20</td>\n      <td>0.59</td>\n      <td>0.0</td>\n      <td>27</td>\n      <td>0.038</td>\n      <td>0.064</td>\n      <td>0.61</td>\n      <td>0.03</td>\n      <td>0.0</td>\n      <td>13</td>\n    </tr>\n  </tbody>\n</table>\n<p>1616 rows × 21 columns</p>\n</div>"
     },
     "execution_count": 107,
     "metadata": {},
     "output_type": "execute_result"
    }
   ],
   "source": [
    "df.fillna(0, inplace=True)\n",
    "\n",
    "# protein, carbs, added sugar, fiber, fat, saturated fat.\n",
    "\n",
    "macro = [\"Food Name\", \"Protein \\n(g)\", \"Available carbohydrate, with sugar alcohols \\n(g)\", \"Added sugars (g)\", \"Total dietary fibre \\n(g)\", \"Fat, total \\n(g)\", \"Total saturated fatty acids, equated \\n(g)\"]\n",
    "\n",
    "features_macro = df[macro]\n",
    "\n",
    "# calcium, iron, magnesium, phosphorus, potassium, sodium, zinc, copper, manganese, selenium\n",
    "# A, E, D, C, thiamin, riboflavin, niacn, B6, B12, folate\n",
    "\n",
    "micro = [\"Food Name\", \"Calcium (Ca) \\n(mg)\", \"Iron (Fe) \\n(mg)\", \"Magnesium (Mg) \\n(mg)\", \"Phosphorus (P) \\n(mg)\", \"Potassium (K) \\n(mg)\", \"Sodium (Na) \\n(mg)\", \"Zinc (Zn) \\n(mg)\", \"Copper (Cu) \\n(mg)\", \"Manganese (Mn) \\n(mg)\", \"Selenium (Se) \\n(ug)\", \"Vitamin A retinol equivalents \\n(ug)\", \"Vitamin E \\n(mg)\", \"Vitamin D3 equivalents \\n(ug)\", \"Vitamin C \\n(mg)\", \"Thiamin (B1) \\n(mg)\", \"Riboflavin (B2) \\n(mg)\", \"Niacin (B3) \\n(mg)\", \"Pyridoxine (B6) \\n(mg)\", \"Cobalamin (B12) \\n(ug)\", \"Folate, natural \\n(ug)\"]\n",
    "\n",
    "features_micro = df[micro]\n",
    "\n",
    "df.columns\n",
    "\n",
    "features_macro\n",
    "features_micro\n",
    "\n"
   ],
   "metadata": {
    "collapsed": false
   }
  },
  {
   "cell_type": "code",
   "execution_count": 120,
   "outputs": [
    {
     "name": "stderr",
     "output_type": "stream",
     "text": [
      "C:\\Users\\natha\\AppData\\Local\\Temp\\ipykernel_8796\\2782211406.py:29: FutureWarning: The frame.append method is deprecated and will be removed from pandas in a future version. Use pandas.concat instead.\n",
      "  result = x2_.append(closest_food)\n"
     ]
    },
    {
     "data": {
      "text/plain": "                                                                                        150   \\\nFood Name                                          Bread, damper, from white flour, homemade   \nProtein \\n(g)                                                                            7.5   \nAvailable carbohydrate, with sugar alcohols \\n(g)                                       42.9   \nAdded sugars (g)                                                                         1.5   \nTotal dietary fibre \\n(g)                                                                3.3   \nFat, total \\n(g)                                                                         5.5   \nTotal saturated fatty acids, equated \\n(g)                                              3.27   \n\n                                                                                                1525  \nFood Name                                          Potato, chips, regular, purchased frozen, bake...  \nProtein \\n(g)                                                                                    4.8  \nAvailable carbohydrate, with sugar alcohols \\n(g)                                               44.5  \nAdded sugars (g)                                                                                 0.0  \nTotal dietary fibre \\n(g)                                                                        4.6  \nFat, total \\n(g)                                                                                 5.4  \nTotal saturated fatty acids, equated \\n(g)                                                      0.69  ",
      "text/html": "<div>\n<style scoped>\n    .dataframe tbody tr th:only-of-type {\n        vertical-align: middle;\n    }\n\n    .dataframe tbody tr th {\n        vertical-align: top;\n    }\n\n    .dataframe thead th {\n        text-align: right;\n    }\n</style>\n<table border=\"1\" class=\"dataframe\">\n  <thead>\n    <tr style=\"text-align: right;\">\n      <th></th>\n      <th>150</th>\n      <th>1525</th>\n    </tr>\n  </thead>\n  <tbody>\n    <tr>\n      <th>Food Name</th>\n      <td>Bread, damper, from white flour, homemade</td>\n      <td>Potato, chips, regular, purchased frozen, bake...</td>\n    </tr>\n    <tr>\n      <th>Protein \\n(g)</th>\n      <td>7.5</td>\n      <td>4.8</td>\n    </tr>\n    <tr>\n      <th>Available carbohydrate, with sugar alcohols \\n(g)</th>\n      <td>42.9</td>\n      <td>44.5</td>\n    </tr>\n    <tr>\n      <th>Added sugars (g)</th>\n      <td>1.5</td>\n      <td>0.0</td>\n    </tr>\n    <tr>\n      <th>Total dietary fibre \\n(g)</th>\n      <td>3.3</td>\n      <td>4.6</td>\n    </tr>\n    <tr>\n      <th>Fat, total \\n(g)</th>\n      <td>5.5</td>\n      <td>5.4</td>\n    </tr>\n    <tr>\n      <th>Total saturated fatty acids, equated \\n(g)</th>\n      <td>3.27</td>\n      <td>0.69</td>\n    </tr>\n  </tbody>\n</table>\n</div>"
     },
     "execution_count": 120,
     "metadata": {},
     "output_type": "execute_result"
    }
   ],
   "source": [
    "# Filter the DataFrame to include only foods without lactose\n",
    "non_lactose_data = features_macro[df[\"Lactose \\n(g)\"] == 0]\n",
    "lactose_data = features_macro[df[\"Lactose \\n(g)\"] != 0]\n",
    "\n",
    "\n",
    "# # Function to find the closest matching food without lactose\n",
    "def find_closest_food(food_with_lactose):\n",
    "\n",
    "    x1 = non_lactose_data.iloc[:, 1:].copy()\n",
    "    x2_ = features_macro[features_macro[\"Food Name\"] == food_with_lactose]\n",
    "    x2 = x2_.iloc[:, 1:].copy()\n",
    "\n",
    "    # Calculate Euclidean distances between the given food and all non-lactose foods\n",
    "    distances = np.sqrt((x1.subtract(x2.values[:])**2).sum(axis=1))\n",
    "\n",
    "    # Find the index of the closest food\n",
    "    closest_index = distances.idxmin()\n",
    "\n",
    "    # Retrieve the closest matching food from the original DataFrame\n",
    "    closest_food = non_lactose_data.loc[closest_index]\n",
    "\n",
    "    result = x2_.append(closest_food)\n",
    "    return result.T\n",
    "\n",
    "find_closest_food(\"Bread, damper, from white flour, homemade\")"
   ],
   "metadata": {
    "collapsed": false
   }
  },
  {
   "cell_type": "code",
   "execution_count": 110,
   "outputs": [
    {
     "data": {
      "text/plain": "                                              Food Name  Protein \\n(g)  \\\n22                     Taco seasoning mix, chilli-based            5.9   \n59    Protein powder, whey based, protein >70%, unfo...           85.0   \n60    Protein powder, whey based, protein >70%, unfo...           14.2   \n62    Beverage base, chocolate flavour, added vitami...           12.7   \n64    Beverage, chocolate flavour, from Nesquik powd...            3.4   \n...                                                 ...            ...   \n1365             Spread, hazelnut & chocolate flavoured            6.8   \n1375                              Caramels, soft & hard            2.5   \n1380                        Liquorice, chocolate-coated            6.3   \n1394     Bamboo shoot, canned in water, heated, drained            0.8   \n1546            Potato, sebago, peeled, boiled, drained            2.5   \n\n      Available carbohydrate, with sugar alcohols \\n(g)  Added sugars (g)  \\\n22                                                 39.7              11.2   \n59                                                  1.6               0.0   \n60                                                  0.3               0.0   \n62                                                 61.2              15.9   \n64                                                  9.7               4.5   \n...                                                 ...               ...   \n1365                                               57.8              52.6   \n1375                                               74.5              49.2   \n1380                                               66.0              38.6   \n1394                                                1.3               0.0   \n1546                                               13.1               0.0   \n\n      Total dietary fibre \\n(g)  Fat, total \\n(g)  \\\n22                          9.9               4.1   \n59                          1.8               2.2   \n60                          0.3               0.4   \n62                          9.1              10.4   \n64                          0.3               3.4   \n...                         ...               ...   \n1365                        3.7              30.3   \n1375                        1.5              11.4   \n1380                        3.2               9.7   \n1394                        2.8               0.0   \n1546                        2.5               0.4   \n\n      Total saturated fatty acids, equated \\n(g)  \n22                                          1.09  \n59                                          1.23  \n60                                          0.20  \n62                                          6.62  \n64                                          2.26  \n...                                          ...  \n1365                                        7.96  \n1375                                        8.65  \n1380                                        6.02  \n1394                                        0.00  \n1546                                        0.00  \n\n[140 rows x 7 columns]",
      "text/html": "<div>\n<style scoped>\n    .dataframe tbody tr th:only-of-type {\n        vertical-align: middle;\n    }\n\n    .dataframe tbody tr th {\n        vertical-align: top;\n    }\n\n    .dataframe thead th {\n        text-align: right;\n    }\n</style>\n<table border=\"1\" class=\"dataframe\">\n  <thead>\n    <tr style=\"text-align: right;\">\n      <th></th>\n      <th>Food Name</th>\n      <th>Protein \\n(g)</th>\n      <th>Available carbohydrate, with sugar alcohols \\n(g)</th>\n      <th>Added sugars (g)</th>\n      <th>Total dietary fibre \\n(g)</th>\n      <th>Fat, total \\n(g)</th>\n      <th>Total saturated fatty acids, equated \\n(g)</th>\n    </tr>\n  </thead>\n  <tbody>\n    <tr>\n      <th>22</th>\n      <td>Taco seasoning mix, chilli-based</td>\n      <td>5.9</td>\n      <td>39.7</td>\n      <td>11.2</td>\n      <td>9.9</td>\n      <td>4.1</td>\n      <td>1.09</td>\n    </tr>\n    <tr>\n      <th>59</th>\n      <td>Protein powder, whey based, protein &gt;70%, unfo...</td>\n      <td>85.0</td>\n      <td>1.6</td>\n      <td>0.0</td>\n      <td>1.8</td>\n      <td>2.2</td>\n      <td>1.23</td>\n    </tr>\n    <tr>\n      <th>60</th>\n      <td>Protein powder, whey based, protein &gt;70%, unfo...</td>\n      <td>14.2</td>\n      <td>0.3</td>\n      <td>0.0</td>\n      <td>0.3</td>\n      <td>0.4</td>\n      <td>0.20</td>\n    </tr>\n    <tr>\n      <th>62</th>\n      <td>Beverage base, chocolate flavour, added vitami...</td>\n      <td>12.7</td>\n      <td>61.2</td>\n      <td>15.9</td>\n      <td>9.1</td>\n      <td>10.4</td>\n      <td>6.62</td>\n    </tr>\n    <tr>\n      <th>64</th>\n      <td>Beverage, chocolate flavour, from Nesquik powd...</td>\n      <td>3.4</td>\n      <td>9.7</td>\n      <td>4.5</td>\n      <td>0.3</td>\n      <td>3.4</td>\n      <td>2.26</td>\n    </tr>\n    <tr>\n      <th>...</th>\n      <td>...</td>\n      <td>...</td>\n      <td>...</td>\n      <td>...</td>\n      <td>...</td>\n      <td>...</td>\n      <td>...</td>\n    </tr>\n    <tr>\n      <th>1365</th>\n      <td>Spread, hazelnut &amp; chocolate flavoured</td>\n      <td>6.8</td>\n      <td>57.8</td>\n      <td>52.6</td>\n      <td>3.7</td>\n      <td>30.3</td>\n      <td>7.96</td>\n    </tr>\n    <tr>\n      <th>1375</th>\n      <td>Caramels, soft &amp; hard</td>\n      <td>2.5</td>\n      <td>74.5</td>\n      <td>49.2</td>\n      <td>1.5</td>\n      <td>11.4</td>\n      <td>8.65</td>\n    </tr>\n    <tr>\n      <th>1380</th>\n      <td>Liquorice, chocolate-coated</td>\n      <td>6.3</td>\n      <td>66.0</td>\n      <td>38.6</td>\n      <td>3.2</td>\n      <td>9.7</td>\n      <td>6.02</td>\n    </tr>\n    <tr>\n      <th>1394</th>\n      <td>Bamboo shoot, canned in water, heated, drained</td>\n      <td>0.8</td>\n      <td>1.3</td>\n      <td>0.0</td>\n      <td>2.8</td>\n      <td>0.0</td>\n      <td>0.00</td>\n    </tr>\n    <tr>\n      <th>1546</th>\n      <td>Potato, sebago, peeled, boiled, drained</td>\n      <td>2.5</td>\n      <td>13.1</td>\n      <td>0.0</td>\n      <td>2.5</td>\n      <td>0.4</td>\n      <td>0.00</td>\n    </tr>\n  </tbody>\n</table>\n<p>140 rows × 7 columns</p>\n</div>"
     },
     "execution_count": 110,
     "metadata": {},
     "output_type": "execute_result"
    }
   ],
   "source": [
    "lactose_data"
   ],
   "metadata": {
    "collapsed": false
   }
  },
  {
   "cell_type": "code",
   "execution_count": 121,
   "outputs": [
    {
     "name": "stderr",
     "output_type": "stream",
     "text": [
      "C:\\Users\\natha\\AppData\\Local\\Temp\\ipykernel_8796\\1968317490.py:22: FutureWarning: The frame.append method is deprecated and will be removed from pandas in a future version. Use pandas.concat instead.\n",
      "  result = x2_.append(closest_food)\n"
     ]
    },
    {
     "data": {
      "text/plain": "                                                                            150  \\\nFood Name                             Bread, damper, from white flour, homemade   \nCalcium (Ca) \\n(mg)                                                          53   \nIron (Fe) \\n(mg)                                                           0.78   \nMagnesium (Mg) \\n(mg)                                                        25   \nPhosphorus (P) \\n(mg)                                                       330   \nPotassium (K) \\n(mg)                                                        150   \nSodium (Na) \\n(mg)                                                          630   \nZinc (Zn) \\n(mg)                                                           0.66   \nCopper (Cu) \\n(mg)                                                          0.0   \nManganese (Mn) \\n(mg)                                                       0.0   \nSelenium (Se) \\n(ug)                                                        9.7   \nVitamin A retinol equivalents \\n(ug)                                         29   \nVitamin E \\n(mg)                                                           0.57   \nVitamin D3 equivalents \\n(ug)                                               0.0   \nVitamin C \\n(mg)                                                              0   \nThiamin (B1) \\n(mg)                                                        0.25   \nRiboflavin (B2) \\n(mg)                                                     0.04   \nNiacin (B3) \\n(mg)                                                          1.2   \nPyridoxine (B6) \\n(mg)                                                      0.0   \nCobalamin (B12) \\n(ug)                                                      0.0   \nFolate, natural \\n(ug)                                                       72   \n\n                                                                         325  \nFood Name                             Pizza, ham & pineapple, takeaway style  \nCalcium (Ca) \\n(mg)                                                      140  \nIron (Fe) \\n(mg)                                                         1.1  \nMagnesium (Mg) \\n(mg)                                                     17  \nPhosphorus (P) \\n(mg)                                                    240  \nPotassium (K) \\n(mg)                                                     140  \nSodium (Na) \\n(mg)                                                       632  \nZinc (Zn) \\n(mg)                                                         1.7  \nCopper (Cu) \\n(mg)                                                       0.0  \nManganese (Mn) \\n(mg)                                                    0.0  \nSelenium (Se) \\n(ug)                                                    11.4  \nVitamin A retinol equivalents \\n(ug)                                      18  \nVitamin E \\n(mg)                                                        0.35  \nVitamin D3 equivalents \\n(ug)                                            0.0  \nVitamin C \\n(mg)                                                           1  \nThiamin (B1) \\n(mg)                                                    0.285  \nRiboflavin (B2) \\n(mg)                                                 0.105  \nNiacin (B3) \\n(mg)                                                      0.68  \nPyridoxine (B6) \\n(mg)                                                  0.04  \nCobalamin (B12) \\n(ug)                                                   0.3  \nFolate, natural \\n(ug)                                                    27  ",
      "text/html": "<div>\n<style scoped>\n    .dataframe tbody tr th:only-of-type {\n        vertical-align: middle;\n    }\n\n    .dataframe tbody tr th {\n        vertical-align: top;\n    }\n\n    .dataframe thead th {\n        text-align: right;\n    }\n</style>\n<table border=\"1\" class=\"dataframe\">\n  <thead>\n    <tr style=\"text-align: right;\">\n      <th></th>\n      <th>150</th>\n      <th>325</th>\n    </tr>\n  </thead>\n  <tbody>\n    <tr>\n      <th>Food Name</th>\n      <td>Bread, damper, from white flour, homemade</td>\n      <td>Pizza, ham &amp; pineapple, takeaway style</td>\n    </tr>\n    <tr>\n      <th>Calcium (Ca) \\n(mg)</th>\n      <td>53</td>\n      <td>140</td>\n    </tr>\n    <tr>\n      <th>Iron (Fe) \\n(mg)</th>\n      <td>0.78</td>\n      <td>1.1</td>\n    </tr>\n    <tr>\n      <th>Magnesium (Mg) \\n(mg)</th>\n      <td>25</td>\n      <td>17</td>\n    </tr>\n    <tr>\n      <th>Phosphorus (P) \\n(mg)</th>\n      <td>330</td>\n      <td>240</td>\n    </tr>\n    <tr>\n      <th>Potassium (K) \\n(mg)</th>\n      <td>150</td>\n      <td>140</td>\n    </tr>\n    <tr>\n      <th>Sodium (Na) \\n(mg)</th>\n      <td>630</td>\n      <td>632</td>\n    </tr>\n    <tr>\n      <th>Zinc (Zn) \\n(mg)</th>\n      <td>0.66</td>\n      <td>1.7</td>\n    </tr>\n    <tr>\n      <th>Copper (Cu) \\n(mg)</th>\n      <td>0.0</td>\n      <td>0.0</td>\n    </tr>\n    <tr>\n      <th>Manganese (Mn) \\n(mg)</th>\n      <td>0.0</td>\n      <td>0.0</td>\n    </tr>\n    <tr>\n      <th>Selenium (Se) \\n(ug)</th>\n      <td>9.7</td>\n      <td>11.4</td>\n    </tr>\n    <tr>\n      <th>Vitamin A retinol equivalents \\n(ug)</th>\n      <td>29</td>\n      <td>18</td>\n    </tr>\n    <tr>\n      <th>Vitamin E \\n(mg)</th>\n      <td>0.57</td>\n      <td>0.35</td>\n    </tr>\n    <tr>\n      <th>Vitamin D3 equivalents \\n(ug)</th>\n      <td>0.0</td>\n      <td>0.0</td>\n    </tr>\n    <tr>\n      <th>Vitamin C \\n(mg)</th>\n      <td>0</td>\n      <td>1</td>\n    </tr>\n    <tr>\n      <th>Thiamin (B1) \\n(mg)</th>\n      <td>0.25</td>\n      <td>0.285</td>\n    </tr>\n    <tr>\n      <th>Riboflavin (B2) \\n(mg)</th>\n      <td>0.04</td>\n      <td>0.105</td>\n    </tr>\n    <tr>\n      <th>Niacin (B3) \\n(mg)</th>\n      <td>1.2</td>\n      <td>0.68</td>\n    </tr>\n    <tr>\n      <th>Pyridoxine (B6) \\n(mg)</th>\n      <td>0.0</td>\n      <td>0.04</td>\n    </tr>\n    <tr>\n      <th>Cobalamin (B12) \\n(ug)</th>\n      <td>0.0</td>\n      <td>0.3</td>\n    </tr>\n    <tr>\n      <th>Folate, natural \\n(ug)</th>\n      <td>72</td>\n      <td>27</td>\n    </tr>\n  </tbody>\n</table>\n</div>"
     },
     "execution_count": 121,
     "metadata": {},
     "output_type": "execute_result"
    }
   ],
   "source": [
    "# Filter the DataFrame to include only foods without lactose\n",
    "non_lactose_data = features_micro[df[\"Lactose \\n(g)\"] == 0]\n",
    "lactose_data = features_micro[df[\"Lactose \\n(g)\"] != 0]\n",
    "\n",
    "\n",
    "# # Function to find the closest matching food without lactose\n",
    "def find_closest_food(food_with_lactose):\n",
    "\n",
    "    x1 = non_lactose_data.iloc[:, 1:].copy()\n",
    "    x2_ = features_micro[features_micro[\"Food Name\"] == food_with_lactose]\n",
    "    x2 = x2_.iloc[:, 1:].copy()\n",
    "\n",
    "    # Calculate Euclidean distances between the given food and all non-lactose foods\n",
    "    distances = np.sqrt((x1.subtract(x2.values[:])**2).sum(axis=1))\n",
    "\n",
    "    # Find the index of the closest food\n",
    "    closest_index = distances.idxmin()\n",
    "\n",
    "    # Retrieve the closest matching food from the original DataFrame\n",
    "    closest_food = non_lactose_data.loc[closest_index]\n",
    "\n",
    "    result = x2_.append(closest_food)\n",
    "    return result.T\n",
    "\n",
    "find_closest_food(\"Bread, damper, from white flour, homemade\")"
   ],
   "metadata": {
    "collapsed": false
   }
  }
 ],
 "metadata": {
  "kernelspec": {
   "display_name": "Python 3",
   "language": "python",
   "name": "python3"
  },
  "language_info": {
   "codemirror_mode": {
    "name": "ipython",
    "version": 2
   },
   "file_extension": ".py",
   "mimetype": "text/x-python",
   "name": "python",
   "nbconvert_exporter": "python",
   "pygments_lexer": "ipython2",
   "version": "2.7.6"
  }
 },
 "nbformat": 4,
 "nbformat_minor": 0
}
