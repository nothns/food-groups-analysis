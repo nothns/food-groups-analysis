{
 "cells": [
  {
   "cell_type": "code",
   "execution_count": 81,
   "metadata": {
    "collapsed": true
   },
   "outputs": [],
   "source": [
    "import pandas as pd\n",
    "import numpy as np"
   ]
  },
  {
   "cell_type": "code",
   "execution_count": 2,
   "outputs": [
    {
     "data": {
      "text/plain": "  Public Food Key  Classification                      Food Name  \\\n0         F002258         31302.0   Cardamom seed, dried, ground   \n1         F002893         31302.0  Chilli (chili), dried, ground   \n2         F002963         31302.0        Cinnamon, dried, ground   \n3         F002970         31302.0          Cloves, dried, ground   \n4         F003190         31302.0  Coriander seed, dried, ground   \n\n   Energy with dietary fibre, equated \\n(kJ)  \\\n0                                       1236   \n1                                       1280   \n2                                       1004   \n3                                       1389   \n4                                       1344   \n\n   Energy, without dietary fibre, equated \\n(kJ)  Moisture (water) \\n(g)  \\\n0                                           1012                     8.3   \n1                                           1002                    10.8   \n2                                            579                    10.6   \n3                                           1118                     9.9   \n4                                           1009                     8.9   \n\n   Protein \\n(g)  Nitrogen \\n(g)  Fat, total \\n(g)  Ash \\n(g)  ...  \\\n0           10.8            1.72               6.7        5.8  ...   \n1           13.4            2.14              14.3       11.8  ...   \n2            4.0            0.64               1.2        3.6  ...   \n3            6.0            0.96              13.0        5.6  ...   \n4           12.4            1.98              17.8        6.0  ...   \n\n   Leucine \\n(mg)  Lysine \\n(mg)  Methionine \\n(mg)  Phenylalanine \\n(mg)  \\\n0             NaN            NaN                NaN                   NaN   \n1             NaN            NaN                NaN                   NaN   \n2             NaN            NaN                NaN                   NaN   \n3             NaN            NaN                NaN                   NaN   \n4             NaN            NaN                NaN                   NaN   \n\n   Proline \\n(mg)  Serine \\n(mg)  Threonine \\n(mg)  Tyrosine \\n(mg)  \\\n0             NaN            NaN               NaN              NaN   \n1             NaN            NaN               NaN              NaN   \n2             NaN            NaN               NaN              NaN   \n3             NaN            NaN               NaN              NaN   \n4             NaN            NaN               NaN              NaN   \n\n   Tryptophan \\n(mg)  Valine \\n(mg)  \n0                155            NaN  \n1                 69            NaN  \n2                 49            NaN  \n3                 30            NaN  \n4                178            NaN  \n\n[5 rows x 293 columns]",
      "text/html": "<div>\n<style scoped>\n    .dataframe tbody tr th:only-of-type {\n        vertical-align: middle;\n    }\n\n    .dataframe tbody tr th {\n        vertical-align: top;\n    }\n\n    .dataframe thead th {\n        text-align: right;\n    }\n</style>\n<table border=\"1\" class=\"dataframe\">\n  <thead>\n    <tr style=\"text-align: right;\">\n      <th></th>\n      <th>Public Food Key</th>\n      <th>Classification</th>\n      <th>Food Name</th>\n      <th>Energy with dietary fibre, equated \\n(kJ)</th>\n      <th>Energy, without dietary fibre, equated \\n(kJ)</th>\n      <th>Moisture (water) \\n(g)</th>\n      <th>Protein \\n(g)</th>\n      <th>Nitrogen \\n(g)</th>\n      <th>Fat, total \\n(g)</th>\n      <th>Ash \\n(g)</th>\n      <th>...</th>\n      <th>Leucine \\n(mg)</th>\n      <th>Lysine \\n(mg)</th>\n      <th>Methionine \\n(mg)</th>\n      <th>Phenylalanine \\n(mg)</th>\n      <th>Proline \\n(mg)</th>\n      <th>Serine \\n(mg)</th>\n      <th>Threonine \\n(mg)</th>\n      <th>Tyrosine \\n(mg)</th>\n      <th>Tryptophan \\n(mg)</th>\n      <th>Valine \\n(mg)</th>\n    </tr>\n  </thead>\n  <tbody>\n    <tr>\n      <th>0</th>\n      <td>F002258</td>\n      <td>31302.0</td>\n      <td>Cardamom seed, dried, ground</td>\n      <td>1236</td>\n      <td>1012</td>\n      <td>8.3</td>\n      <td>10.8</td>\n      <td>1.72</td>\n      <td>6.7</td>\n      <td>5.8</td>\n      <td>...</td>\n      <td>NaN</td>\n      <td>NaN</td>\n      <td>NaN</td>\n      <td>NaN</td>\n      <td>NaN</td>\n      <td>NaN</td>\n      <td>NaN</td>\n      <td>NaN</td>\n      <td>155</td>\n      <td>NaN</td>\n    </tr>\n    <tr>\n      <th>1</th>\n      <td>F002893</td>\n      <td>31302.0</td>\n      <td>Chilli (chili), dried, ground</td>\n      <td>1280</td>\n      <td>1002</td>\n      <td>10.8</td>\n      <td>13.4</td>\n      <td>2.14</td>\n      <td>14.3</td>\n      <td>11.8</td>\n      <td>...</td>\n      <td>NaN</td>\n      <td>NaN</td>\n      <td>NaN</td>\n      <td>NaN</td>\n      <td>NaN</td>\n      <td>NaN</td>\n      <td>NaN</td>\n      <td>NaN</td>\n      <td>69</td>\n      <td>NaN</td>\n    </tr>\n    <tr>\n      <th>2</th>\n      <td>F002963</td>\n      <td>31302.0</td>\n      <td>Cinnamon, dried, ground</td>\n      <td>1004</td>\n      <td>579</td>\n      <td>10.6</td>\n      <td>4.0</td>\n      <td>0.64</td>\n      <td>1.2</td>\n      <td>3.6</td>\n      <td>...</td>\n      <td>NaN</td>\n      <td>NaN</td>\n      <td>NaN</td>\n      <td>NaN</td>\n      <td>NaN</td>\n      <td>NaN</td>\n      <td>NaN</td>\n      <td>NaN</td>\n      <td>49</td>\n      <td>NaN</td>\n    </tr>\n    <tr>\n      <th>3</th>\n      <td>F002970</td>\n      <td>31302.0</td>\n      <td>Cloves, dried, ground</td>\n      <td>1389</td>\n      <td>1118</td>\n      <td>9.9</td>\n      <td>6.0</td>\n      <td>0.96</td>\n      <td>13.0</td>\n      <td>5.6</td>\n      <td>...</td>\n      <td>NaN</td>\n      <td>NaN</td>\n      <td>NaN</td>\n      <td>NaN</td>\n      <td>NaN</td>\n      <td>NaN</td>\n      <td>NaN</td>\n      <td>NaN</td>\n      <td>30</td>\n      <td>NaN</td>\n    </tr>\n    <tr>\n      <th>4</th>\n      <td>F003190</td>\n      <td>31302.0</td>\n      <td>Coriander seed, dried, ground</td>\n      <td>1344</td>\n      <td>1009</td>\n      <td>8.9</td>\n      <td>12.4</td>\n      <td>1.98</td>\n      <td>17.8</td>\n      <td>6.0</td>\n      <td>...</td>\n      <td>NaN</td>\n      <td>NaN</td>\n      <td>NaN</td>\n      <td>NaN</td>\n      <td>NaN</td>\n      <td>NaN</td>\n      <td>NaN</td>\n      <td>NaN</td>\n      <td>178</td>\n      <td>NaN</td>\n    </tr>\n  </tbody>\n</table>\n<p>5 rows × 293 columns</p>\n</div>"
     },
     "execution_count": 2,
     "metadata": {},
     "output_type": "execute_result"
    }
   ],
   "source": [
    "df1 = pd.read_excel(\"source.xlsx\", sheet_name=\"All solids & liquids per 100g\")\n",
    "df1.head()"
   ],
   "metadata": {
    "collapsed": false
   }
  },
  {
   "cell_type": "code",
   "execution_count": 57,
   "outputs": [
    {
     "data": {
      "text/plain": "<bound method NDFrame.head of      Public Food Key  Classification_x  \\\n0            F002258           31302.0   \n1            F002893           31302.0   \n2            F002963           31302.0   \n3            F002970           31302.0   \n4            F003190           31302.0   \n...              ...               ...   \n1611         F009774           24702.0   \n1612         F009773           24702.0   \n1613         F009766           24702.0   \n1614         F009765           24702.0   \n1615         F009764           24702.0   \n\n                                            Food Name_x  \\\n0                          Cardamom seed, dried, ground   \n1                         Chilli (chili), dried, ground   \n2                               Cinnamon, dried, ground   \n3                                 Cloves, dried, ground   \n4                         Coriander seed, dried, ground   \n...                                                 ...   \n1611  Zucchini, green skin, fresh, unpeeled, fried, ...   \n1612  Zucchini, green skin, fresh, unpeeled, boiled,...   \n1613             Zucchini, golden, fresh, unpeeled, raw   \n1614  Zucchini, golden, fresh, unpeeled, fried, no a...   \n1615  Zucchini, golden, fresh, unpeeled, boiled, dra...   \n\n      Energy with dietary fibre, equated \\n(kJ)  \\\n0                                          1236   \n1                                          1280   \n2                                          1004   \n3                                          1389   \n4                                          1344   \n...                                         ...   \n1611                                         92   \n1612                                         77   \n1613                                         78   \n1614                                        111   \n1615                                         93   \n\n      Energy, without dietary fibre, equated \\n(kJ)  Moisture (water) \\n(g)  \\\n0                                              1012                     8.3   \n1                                              1002                    10.8   \n2                                               579                    10.6   \n3                                              1118                     9.9   \n4                                              1009                     8.9   \n...                                             ...                     ...   \n1611                                             80                    92.6   \n1612                                             66                    93.8   \n1613                                             70                    94.1   \n1614                                            100                    91.6   \n1615                                             83                    93.0   \n\n      Protein \\n(g)  Nitrogen \\n(g)  Fat, total \\n(g)  Ash \\n(g)  ...  \\\n0              10.8            1.72               6.7        5.8  ...   \n1              13.4            2.14              14.3       11.8  ...   \n2               4.0            0.64               1.2        3.6  ...   \n3               6.0            0.96              13.0        5.6  ...   \n4              12.4            1.98              17.8        6.0  ...   \n...             ...             ...               ...        ...  ...   \n1611            1.3            0.20               0.4        0.6  ...   \n1612            1.1            0.17               0.4        0.5  ...   \n1613            2.2            0.35               0.3        0.6  ...   \n1614            3.1            0.50               0.4        0.8  ...   \n1615            2.6            0.42               0.4        0.7  ...   \n\n                                            Food Name_y  \\\n0                          Cardamom seed, dried, ground   \n1                         Chilli (chili), dried, ground   \n2                               Cinnamon, dried, ground   \n3                                 Cloves, dried, ground   \n4                         Coriander seed, dried, ground   \n...                                                 ...   \n1611  Zucchini, green skin, fresh, unpeeled, fried, ...   \n1612  Zucchini, green skin, fresh, unpeeled, boiled,...   \n1613             Zucchini, golden, fresh, unpeeled, raw   \n1614  Zucchini, golden, fresh, unpeeled, fried, no a...   \n1615  Zucchini, golden, fresh, unpeeled, boiled, dra...   \n\n                                       Food Description  \\\n0     Ground spice commonly used in Indian cooking a...   \n1     Dried and ground red pepper, characterised by ...   \n2     Dried and ground bark or quills of Cinnamomum ...   \n3     Dried and ground, unopened flower buds of Syzy...   \n4     Dried and ground fruit or seed of Coriandrum s...   \n...                                                 ...   \n1611  A variety of summer squash, picked when small....   \n1612  Variety of marrow or summer squash, picked whe...   \n1613  Variety of squash which has a yellow smooth sk...   \n1614  Variety of squash which has a yellow smooth sk...   \n1615  Variety of squash which has a yellow smooth sk...   \n\n                                       Sampling Details  Nitrogen Factor  \\\n0     The majority of nutrient data were borrowed fr...             6.25   \n1     The majority of nutrient data was borrowed USD...             6.25   \n2     The majority of nutrient data were borrowed fr...             6.25   \n3     The majority of nutrient data were borrowed fr...             6.25   \n4     The majority of nutrient data were borrowed fr...             6.25   \n...                                                 ...              ...   \n1611  These nutrient data were derived using a recip...                0   \n1612  These nutrient data were derived using a recip...                0   \n1613  The majority of nutrient data were derived fro...             6.25   \n1614  These nutrient data were derived using a recip...                0   \n1615  These nutrient data were derived using a recip...                0   \n\n      Fat Factor  Specific Gravity          Analysed Portion  \\\n0          0.956                 0                      100%   \n1            0.8                 0                      100%   \n2          0.956                 0                      100%   \n3          0.956                 0                      100%   \n4          0.956                 0                      100%   \n...          ...               ...                       ...   \n1611           0                 0  93% (flesh, skin, seeds)   \n1612           0                 0  93% (flesh, skin, seeds)   \n1613         0.8                 0  92% (flesh, skin, seeds)   \n1614           0                 0                       92%   \n1615           0                 0  92% (flesh, skin, seeds)   \n\n      Unanalysed Portion  Classification_y      Classification Name  \n0                     0%           31302.0  Herbs(dried) and spices  \n1                     0%           31302.0  Herbs(dried) and spices  \n2                     0%           31302.0  Herbs(dried) and spices  \n3                     0%           31302.0  Herbs(dried) and spices  \n4                     0%           31302.0  Herbs(dried) and spices  \n...                  ...               ...                      ...  \n1611    7% (stalk, ends)           24702.0      Squash and zucchini  \n1612    7% (stalk, ends)           24702.0      Squash and zucchini  \n1613     8% (stalk ends)           24702.0      Squash and zucchini  \n1614                  8%           24702.0      Squash and zucchini  \n1615     8% (stalk ends)           24702.0      Squash and zucchini  \n\n[1616 rows x 305 columns]>"
     },
     "execution_count": 57,
     "metadata": {},
     "output_type": "execute_result"
    }
   ],
   "source": [
    "df2 = pd.read_excel('source2.xlsx', sheet_name='AFCD - Release 2')\n",
    "df = pd.merge(df1, df2, on=\"Public Food Key\")\n",
    "df.head"
   ],
   "metadata": {
    "collapsed": false
   }
  },
  {
   "cell_type": "code",
   "execution_count": 59,
   "outputs": [
    {
     "data": {
      "text/plain": "                           Classification_x  \\\nClassification Name                           \nAnimal-based solid fats             14501.0   \nApples                              15958.5   \nBacon                               18601.0   \nBananas                             16501.0   \nBeans                               24502.0   \n...                                     ...   \nWild harvested vegetables           24001.0   \nWines                               29201.5   \nYeast                               31101.0   \nYeast extracts                      31102.0   \nYoghurt                             19205.5   \n\n                           Energy with dietary fibre, equated \\n(kJ)  \\\nClassification Name                                                    \nAnimal-based solid fats                                  3703.000000   \nApples                                                    227.300000   \nBacon                                                    1604.500000   \nBananas                                                   434.000000   \nBeans                                                     437.818182   \n...                                                              ...   \nWild harvested vegetables                                 448.000000   \nWines                                                     299.125000   \nYeast                                                    1126.000000   \nYeast extracts                                            653.500000   \nYoghurt                                                   365.500000   \n\n                           Energy, without dietary fibre, equated \\n(kJ)  \\\nClassification Name                                                        \nAnimal-based solid fats                                      3703.000000   \nApples                                                        207.200000   \nBacon                                                        1604.500000   \nBananas                                                       405.500000   \nBeans                                                         375.272727   \n...                                                                  ...   \nWild harvested vegetables                                     420.000000   \nWines                                                         299.125000   \nYeast                                                         910.000000   \nYeast extracts                                                580.000000   \nYoghurt                                                       363.625000   \n\n                           Moisture (water) \\n(g)  Protein \\n(g)  \\\nClassification Name                                                \nAnimal-based solid fats                  0.000000       0.200000   \nApples                                  84.820000       0.290000   \nBacon                                   38.825000      22.150000   \nBananas                                 72.500000       1.450000   \nBeans                                   68.109091       9.054545   \n...                                           ...            ...   \nWild harvested vegetables               68.000000       3.200000   \nWines                                   87.093750       0.243750   \nYeast                                    6.000000      36.400000   \nYeast extracts                          40.900000      18.850000   \nYoghurt                                 78.450000       5.462500   \n\n                           Nitrogen \\n(g)  Fat, total \\n(g)  Ash \\n(g)  \\\nClassification Name                                                      \nAnimal-based solid fats          0.030000        100.000000   0.000000   \nApples                           0.048000          0.060000   0.240000   \nBacon                            3.545000         32.925000   5.225000   \nBananas                          0.230000          0.150000   1.000000   \nBeans                            1.449091          0.590909   1.263636   \n...                                   ...               ...        ...   \nWild harvested vegetables        0.510000          0.300000   2.000000   \nWines                            0.038125          0.000000   0.225000   \nYeast                            5.820000          5.000000   4.800000   \nYeast extracts                   3.280000          0.900000  14.300000   \nYoghurt                          0.848750          2.300000   0.975000   \n\n                           Total dietary fibre \\n(g)  Alcohol \\n(g)  ...  \\\nClassification Name                                                  ...   \nAnimal-based solid fats                         0.00        0.00000  ...   \nApples                                          2.52        0.00000  ...   \nBacon                                           0.00        0.00000  ...   \nBananas                                         2.95        0.00000  ...   \nBeans                                           7.30        0.00000  ...   \n...                                              ...            ...  ...   \nWild harvested vegetables                       3.50        0.00000  ...   \nWines                                           0.00        9.33125  ...   \nYeast                                          26.90        0.00000  ...   \nYeast extracts                                  9.15        0.00000  ...   \nYoghurt                                         0.25        0.00000  ...   \n\n                           Serine \\n(mg)  Threonine \\n(mg)  Tyrosine \\n(mg)  \\\nClassification Name                                                           \nAnimal-based solid fats         0.000000          0.000000         0.000000   \nApples                          2.000000          1.800000         1.000000   \nBacon                         184.500000        197.250000       148.000000   \nBananas                        75.500000         55.500000        44.000000   \nBeans                         290.636364        205.272727       159.818182   \n...                                  ...               ...              ...   \nWild harvested vegetables       0.000000          0.000000         0.000000   \nWines                           0.000000          0.000000         0.000000   \nYeast                           0.000000          0.000000         0.000000   \nYeast extracts                632.000000        626.000000       408.000000   \nYoghurt                         0.000000          0.000000         0.000000   \n\n                           Tryptophan \\n(mg)  Valine \\n(mg)  Food Profile ID  \\\nClassification Name                                                            \nAnimal-based solid fats             0.000000       0.000000      4470.000000   \nApples                              2.200000       2.000000      7738.700000   \nBacon                             245.750000     210.250000     14905.500000   \nBananas                            24.000000      67.500000      5976.500000   \nBeans                             100.909091     314.909091     13660.727273   \n...                                      ...            ...              ...   \nWild harvested vegetables          49.000000       0.000000     14828.000000   \nWines                               0.250000       0.000000      8330.437500   \nYeast                             361.000000       0.000000     14741.000000   \nYeast extracts                    204.500000     764.500000     11111.500000   \nYoghurt                            67.125000       0.000000     13538.875000   \n\n                           Nitrogen Factor  Fat Factor  Specific Gravity  \\\nClassification Name                                                        \nAnimal-based solid fats           6.250000    0.956000          0.000000   \nApples                            5.000000    0.640000          0.000000   \nBacon                             6.250000    0.931500          0.000000   \nBananas                           6.250000    0.800000          0.000000   \nBeans                             3.977273    0.509091          0.000000   \n...                                    ...         ...               ...   \nWild harvested vegetables         6.250000    0.800000          0.000000   \nWines                             5.468750    0.700000          0.998125   \nYeast                             6.250000    0.800000          0.000000   \nYeast extracts                    5.700000    0.800000          0.000000   \nYoghurt                           6.380000    0.945000          1.040000   \n\n                           Classification_y  \nClassification Name                          \nAnimal-based solid fats             14501.0  \nApples                              15958.5  \nBacon                               18601.0  \nBananas                             16501.0  \nBeans                               24502.0  \n...                                     ...  \nWild harvested vegetables           24001.0  \nWines                               29201.5  \nYeast                               31101.0  \nYeast extracts                      31102.0  \nYoghurt                             19205.5  \n\n[209 rows x 296 columns]",
      "text/html": "<div>\n<style scoped>\n    .dataframe tbody tr th:only-of-type {\n        vertical-align: middle;\n    }\n\n    .dataframe tbody tr th {\n        vertical-align: top;\n    }\n\n    .dataframe thead th {\n        text-align: right;\n    }\n</style>\n<table border=\"1\" class=\"dataframe\">\n  <thead>\n    <tr style=\"text-align: right;\">\n      <th></th>\n      <th>Classification_x</th>\n      <th>Energy with dietary fibre, equated \\n(kJ)</th>\n      <th>Energy, without dietary fibre, equated \\n(kJ)</th>\n      <th>Moisture (water) \\n(g)</th>\n      <th>Protein \\n(g)</th>\n      <th>Nitrogen \\n(g)</th>\n      <th>Fat, total \\n(g)</th>\n      <th>Ash \\n(g)</th>\n      <th>Total dietary fibre \\n(g)</th>\n      <th>Alcohol \\n(g)</th>\n      <th>...</th>\n      <th>Serine \\n(mg)</th>\n      <th>Threonine \\n(mg)</th>\n      <th>Tyrosine \\n(mg)</th>\n      <th>Tryptophan \\n(mg)</th>\n      <th>Valine \\n(mg)</th>\n      <th>Food Profile ID</th>\n      <th>Nitrogen Factor</th>\n      <th>Fat Factor</th>\n      <th>Specific Gravity</th>\n      <th>Classification_y</th>\n    </tr>\n    <tr>\n      <th>Classification Name</th>\n      <th></th>\n      <th></th>\n      <th></th>\n      <th></th>\n      <th></th>\n      <th></th>\n      <th></th>\n      <th></th>\n      <th></th>\n      <th></th>\n      <th></th>\n      <th></th>\n      <th></th>\n      <th></th>\n      <th></th>\n      <th></th>\n      <th></th>\n      <th></th>\n      <th></th>\n      <th></th>\n      <th></th>\n    </tr>\n  </thead>\n  <tbody>\n    <tr>\n      <th>Animal-based solid fats</th>\n      <td>14501.0</td>\n      <td>3703.000000</td>\n      <td>3703.000000</td>\n      <td>0.000000</td>\n      <td>0.200000</td>\n      <td>0.030000</td>\n      <td>100.000000</td>\n      <td>0.000000</td>\n      <td>0.00</td>\n      <td>0.00000</td>\n      <td>...</td>\n      <td>0.000000</td>\n      <td>0.000000</td>\n      <td>0.000000</td>\n      <td>0.000000</td>\n      <td>0.000000</td>\n      <td>4470.000000</td>\n      <td>6.250000</td>\n      <td>0.956000</td>\n      <td>0.000000</td>\n      <td>14501.0</td>\n    </tr>\n    <tr>\n      <th>Apples</th>\n      <td>15958.5</td>\n      <td>227.300000</td>\n      <td>207.200000</td>\n      <td>84.820000</td>\n      <td>0.290000</td>\n      <td>0.048000</td>\n      <td>0.060000</td>\n      <td>0.240000</td>\n      <td>2.52</td>\n      <td>0.00000</td>\n      <td>...</td>\n      <td>2.000000</td>\n      <td>1.800000</td>\n      <td>1.000000</td>\n      <td>2.200000</td>\n      <td>2.000000</td>\n      <td>7738.700000</td>\n      <td>5.000000</td>\n      <td>0.640000</td>\n      <td>0.000000</td>\n      <td>15958.5</td>\n    </tr>\n    <tr>\n      <th>Bacon</th>\n      <td>18601.0</td>\n      <td>1604.500000</td>\n      <td>1604.500000</td>\n      <td>38.825000</td>\n      <td>22.150000</td>\n      <td>3.545000</td>\n      <td>32.925000</td>\n      <td>5.225000</td>\n      <td>0.00</td>\n      <td>0.00000</td>\n      <td>...</td>\n      <td>184.500000</td>\n      <td>197.250000</td>\n      <td>148.000000</td>\n      <td>245.750000</td>\n      <td>210.250000</td>\n      <td>14905.500000</td>\n      <td>6.250000</td>\n      <td>0.931500</td>\n      <td>0.000000</td>\n      <td>18601.0</td>\n    </tr>\n    <tr>\n      <th>Bananas</th>\n      <td>16501.0</td>\n      <td>434.000000</td>\n      <td>405.500000</td>\n      <td>72.500000</td>\n      <td>1.450000</td>\n      <td>0.230000</td>\n      <td>0.150000</td>\n      <td>1.000000</td>\n      <td>2.95</td>\n      <td>0.00000</td>\n      <td>...</td>\n      <td>75.500000</td>\n      <td>55.500000</td>\n      <td>44.000000</td>\n      <td>24.000000</td>\n      <td>67.500000</td>\n      <td>5976.500000</td>\n      <td>6.250000</td>\n      <td>0.800000</td>\n      <td>0.000000</td>\n      <td>16501.0</td>\n    </tr>\n    <tr>\n      <th>Beans</th>\n      <td>24502.0</td>\n      <td>437.818182</td>\n      <td>375.272727</td>\n      <td>68.109091</td>\n      <td>9.054545</td>\n      <td>1.449091</td>\n      <td>0.590909</td>\n      <td>1.263636</td>\n      <td>7.30</td>\n      <td>0.00000</td>\n      <td>...</td>\n      <td>290.636364</td>\n      <td>205.272727</td>\n      <td>159.818182</td>\n      <td>100.909091</td>\n      <td>314.909091</td>\n      <td>13660.727273</td>\n      <td>3.977273</td>\n      <td>0.509091</td>\n      <td>0.000000</td>\n      <td>24502.0</td>\n    </tr>\n    <tr>\n      <th>...</th>\n      <td>...</td>\n      <td>...</td>\n      <td>...</td>\n      <td>...</td>\n      <td>...</td>\n      <td>...</td>\n      <td>...</td>\n      <td>...</td>\n      <td>...</td>\n      <td>...</td>\n      <td>...</td>\n      <td>...</td>\n      <td>...</td>\n      <td>...</td>\n      <td>...</td>\n      <td>...</td>\n      <td>...</td>\n      <td>...</td>\n      <td>...</td>\n      <td>...</td>\n      <td>...</td>\n    </tr>\n    <tr>\n      <th>Wild harvested vegetables</th>\n      <td>24001.0</td>\n      <td>448.000000</td>\n      <td>420.000000</td>\n      <td>68.000000</td>\n      <td>3.200000</td>\n      <td>0.510000</td>\n      <td>0.300000</td>\n      <td>2.000000</td>\n      <td>3.50</td>\n      <td>0.00000</td>\n      <td>...</td>\n      <td>0.000000</td>\n      <td>0.000000</td>\n      <td>0.000000</td>\n      <td>49.000000</td>\n      <td>0.000000</td>\n      <td>14828.000000</td>\n      <td>6.250000</td>\n      <td>0.800000</td>\n      <td>0.000000</td>\n      <td>24001.0</td>\n    </tr>\n    <tr>\n      <th>Wines</th>\n      <td>29201.5</td>\n      <td>299.125000</td>\n      <td>299.125000</td>\n      <td>87.093750</td>\n      <td>0.243750</td>\n      <td>0.038125</td>\n      <td>0.000000</td>\n      <td>0.225000</td>\n      <td>0.00</td>\n      <td>9.33125</td>\n      <td>...</td>\n      <td>0.000000</td>\n      <td>0.000000</td>\n      <td>0.000000</td>\n      <td>0.250000</td>\n      <td>0.000000</td>\n      <td>8330.437500</td>\n      <td>5.468750</td>\n      <td>0.700000</td>\n      <td>0.998125</td>\n      <td>29201.5</td>\n    </tr>\n    <tr>\n      <th>Yeast</th>\n      <td>31101.0</td>\n      <td>1126.000000</td>\n      <td>910.000000</td>\n      <td>6.000000</td>\n      <td>36.400000</td>\n      <td>5.820000</td>\n      <td>5.000000</td>\n      <td>4.800000</td>\n      <td>26.90</td>\n      <td>0.00000</td>\n      <td>...</td>\n      <td>0.000000</td>\n      <td>0.000000</td>\n      <td>0.000000</td>\n      <td>361.000000</td>\n      <td>0.000000</td>\n      <td>14741.000000</td>\n      <td>6.250000</td>\n      <td>0.800000</td>\n      <td>0.000000</td>\n      <td>31101.0</td>\n    </tr>\n    <tr>\n      <th>Yeast extracts</th>\n      <td>31102.0</td>\n      <td>653.500000</td>\n      <td>580.000000</td>\n      <td>40.900000</td>\n      <td>18.850000</td>\n      <td>3.280000</td>\n      <td>0.900000</td>\n      <td>14.300000</td>\n      <td>9.15</td>\n      <td>0.00000</td>\n      <td>...</td>\n      <td>632.000000</td>\n      <td>626.000000</td>\n      <td>408.000000</td>\n      <td>204.500000</td>\n      <td>764.500000</td>\n      <td>11111.500000</td>\n      <td>5.700000</td>\n      <td>0.800000</td>\n      <td>0.000000</td>\n      <td>31102.0</td>\n    </tr>\n    <tr>\n      <th>Yoghurt</th>\n      <td>19205.5</td>\n      <td>365.500000</td>\n      <td>363.625000</td>\n      <td>78.450000</td>\n      <td>5.462500</td>\n      <td>0.848750</td>\n      <td>2.300000</td>\n      <td>0.975000</td>\n      <td>0.25</td>\n      <td>0.00000</td>\n      <td>...</td>\n      <td>0.000000</td>\n      <td>0.000000</td>\n      <td>0.000000</td>\n      <td>67.125000</td>\n      <td>0.000000</td>\n      <td>13538.875000</td>\n      <td>6.380000</td>\n      <td>0.945000</td>\n      <td>1.040000</td>\n      <td>19205.5</td>\n    </tr>\n  </tbody>\n</table>\n<p>209 rows × 296 columns</p>\n</div>"
     },
     "execution_count": 59,
     "metadata": {},
     "output_type": "execute_result"
    }
   ],
   "source": [
    "# fill na\n",
    "df.fillna(0, inplace=True)\n",
    "\n",
    "# classification based on first word\n",
    "df['Classification Name'] = df['Classification Name'].str.split(',').str[0]\n",
    "\n",
    "df.groupby(['Classification Name']).mean()"
   ],
   "metadata": {
    "collapsed": false
   }
  },
  {
   "cell_type": "code",
   "execution_count": 65,
   "outputs": [
    {
     "data": {
      "text/plain": "           Classification Name  Protein \\n(g)  Fat, total \\n(g)  \\\n0      Animal-based solid fats       0.200000        100.000000   \n1                       Apples       0.290000          0.060000   \n2                        Bacon      22.150000         32.925000   \n3                      Bananas       1.450000          0.150000   \n4                        Beans       9.054545          0.590909   \n..                         ...            ...               ...   \n204  Wild harvested vegetables       3.200000          0.300000   \n205                      Wines       0.243750          0.000000   \n206                      Yeast      36.400000          5.000000   \n207             Yeast extracts      18.850000          0.900000   \n208                    Yoghurt       5.462500          2.300000   \n\n     Available carbohydrate, with sugar alcohols \\n(g)  Alcohol \\n(g)  \n0                                             0.000000        0.00000  \n1                                            12.060000        0.00000  \n2                                             0.575000        0.00000  \n3                                            22.300000        0.00000  \n4                                            11.672727        0.00000  \n..                                                 ...            ...  \n204                                          20.900000        0.00000  \n205                                           1.331250        9.33125  \n206                                           6.300000        0.00000  \n207                                          13.750000        0.00000  \n208                                          10.437500        0.00000  \n\n[209 rows x 5 columns]",
      "text/html": "<div>\n<style scoped>\n    .dataframe tbody tr th:only-of-type {\n        vertical-align: middle;\n    }\n\n    .dataframe tbody tr th {\n        vertical-align: top;\n    }\n\n    .dataframe thead th {\n        text-align: right;\n    }\n</style>\n<table border=\"1\" class=\"dataframe\">\n  <thead>\n    <tr style=\"text-align: right;\">\n      <th></th>\n      <th>Classification Name</th>\n      <th>Protein \\n(g)</th>\n      <th>Fat, total \\n(g)</th>\n      <th>Available carbohydrate, with sugar alcohols \\n(g)</th>\n      <th>Alcohol \\n(g)</th>\n    </tr>\n  </thead>\n  <tbody>\n    <tr>\n      <th>0</th>\n      <td>Animal-based solid fats</td>\n      <td>0.200000</td>\n      <td>100.000000</td>\n      <td>0.000000</td>\n      <td>0.00000</td>\n    </tr>\n    <tr>\n      <th>1</th>\n      <td>Apples</td>\n      <td>0.290000</td>\n      <td>0.060000</td>\n      <td>12.060000</td>\n      <td>0.00000</td>\n    </tr>\n    <tr>\n      <th>2</th>\n      <td>Bacon</td>\n      <td>22.150000</td>\n      <td>32.925000</td>\n      <td>0.575000</td>\n      <td>0.00000</td>\n    </tr>\n    <tr>\n      <th>3</th>\n      <td>Bananas</td>\n      <td>1.450000</td>\n      <td>0.150000</td>\n      <td>22.300000</td>\n      <td>0.00000</td>\n    </tr>\n    <tr>\n      <th>4</th>\n      <td>Beans</td>\n      <td>9.054545</td>\n      <td>0.590909</td>\n      <td>11.672727</td>\n      <td>0.00000</td>\n    </tr>\n    <tr>\n      <th>...</th>\n      <td>...</td>\n      <td>...</td>\n      <td>...</td>\n      <td>...</td>\n      <td>...</td>\n    </tr>\n    <tr>\n      <th>204</th>\n      <td>Wild harvested vegetables</td>\n      <td>3.200000</td>\n      <td>0.300000</td>\n      <td>20.900000</td>\n      <td>0.00000</td>\n    </tr>\n    <tr>\n      <th>205</th>\n      <td>Wines</td>\n      <td>0.243750</td>\n      <td>0.000000</td>\n      <td>1.331250</td>\n      <td>9.33125</td>\n    </tr>\n    <tr>\n      <th>206</th>\n      <td>Yeast</td>\n      <td>36.400000</td>\n      <td>5.000000</td>\n      <td>6.300000</td>\n      <td>0.00000</td>\n    </tr>\n    <tr>\n      <th>207</th>\n      <td>Yeast extracts</td>\n      <td>18.850000</td>\n      <td>0.900000</td>\n      <td>13.750000</td>\n      <td>0.00000</td>\n    </tr>\n    <tr>\n      <th>208</th>\n      <td>Yoghurt</td>\n      <td>5.462500</td>\n      <td>2.300000</td>\n      <td>10.437500</td>\n      <td>0.00000</td>\n    </tr>\n  </tbody>\n</table>\n<p>209 rows × 5 columns</p>\n</div>"
     },
     "execution_count": 65,
     "metadata": {},
     "output_type": "execute_result"
    }
   ],
   "source": [
    "category = \"Classification Name\"\n",
    "carbohydrates = \"Available carbohydrate, with sugar alcohols \\n(g)\"\n",
    "alcohol = 'Alcohol \\n(g)'\n",
    "proteins = 'Protein \\n(g)'\n",
    "fats = 'Fat, total \\n(g)'\n",
    "variables = [category,proteins,fats,carbohydrates,alcohol]\n",
    "\n",
    "cl = df[variables].groupby(['Classification Name']).mean()\n",
    "cl.reset_index(inplace=True)\n",
    "cl"
   ],
   "metadata": {
    "collapsed": false
   }
  },
  {
   "cell_type": "code",
   "execution_count": 88,
   "outputs": [
    {
     "data": {
      "text/plain": "     Protein \\n(g)  Fat, total \\n(g)  \\\n0         0.200000        100.000000   \n1         0.290000          0.060000   \n2        22.150000         32.925000   \n3         1.450000          0.150000   \n4         9.054545          0.590909   \n..             ...               ...   \n204       3.200000          0.300000   \n205       0.243750          0.000000   \n206      36.400000          5.000000   \n207      18.850000          0.900000   \n208       5.462500          2.300000   \n\n     Available carbohydrate, with sugar alcohols \\n(g)  \n0                                             0.000000  \n1                                            12.060000  \n2                                             0.575000  \n3                                            22.300000  \n4                                            11.672727  \n..                                                 ...  \n204                                          20.900000  \n205                                           1.331250  \n206                                           6.300000  \n207                                          13.750000  \n208                                          10.437500  \n\n[209 rows x 3 columns]",
      "text/html": "<div>\n<style scoped>\n    .dataframe tbody tr th:only-of-type {\n        vertical-align: middle;\n    }\n\n    .dataframe tbody tr th {\n        vertical-align: top;\n    }\n\n    .dataframe thead th {\n        text-align: right;\n    }\n</style>\n<table border=\"1\" class=\"dataframe\">\n  <thead>\n    <tr style=\"text-align: right;\">\n      <th></th>\n      <th>Protein \\n(g)</th>\n      <th>Fat, total \\n(g)</th>\n      <th>Available carbohydrate, with sugar alcohols \\n(g)</th>\n    </tr>\n  </thead>\n  <tbody>\n    <tr>\n      <th>0</th>\n      <td>0.200000</td>\n      <td>100.000000</td>\n      <td>0.000000</td>\n    </tr>\n    <tr>\n      <th>1</th>\n      <td>0.290000</td>\n      <td>0.060000</td>\n      <td>12.060000</td>\n    </tr>\n    <tr>\n      <th>2</th>\n      <td>22.150000</td>\n      <td>32.925000</td>\n      <td>0.575000</td>\n    </tr>\n    <tr>\n      <th>3</th>\n      <td>1.450000</td>\n      <td>0.150000</td>\n      <td>22.300000</td>\n    </tr>\n    <tr>\n      <th>4</th>\n      <td>9.054545</td>\n      <td>0.590909</td>\n      <td>11.672727</td>\n    </tr>\n    <tr>\n      <th>...</th>\n      <td>...</td>\n      <td>...</td>\n      <td>...</td>\n    </tr>\n    <tr>\n      <th>204</th>\n      <td>3.200000</td>\n      <td>0.300000</td>\n      <td>20.900000</td>\n    </tr>\n    <tr>\n      <th>205</th>\n      <td>0.243750</td>\n      <td>0.000000</td>\n      <td>1.331250</td>\n    </tr>\n    <tr>\n      <th>206</th>\n      <td>36.400000</td>\n      <td>5.000000</td>\n      <td>6.300000</td>\n    </tr>\n    <tr>\n      <th>207</th>\n      <td>18.850000</td>\n      <td>0.900000</td>\n      <td>13.750000</td>\n    </tr>\n    <tr>\n      <th>208</th>\n      <td>5.462500</td>\n      <td>2.300000</td>\n      <td>10.437500</td>\n    </tr>\n  </tbody>\n</table>\n<p>209 rows × 3 columns</p>\n</div>"
     },
     "execution_count": 88,
     "metadata": {},
     "output_type": "execute_result"
    }
   ],
   "source": [
    "from sklearn.preprocessing import StandardScaler\n",
    "\n",
    "variables = [proteins,fats,carbohydrates]\n",
    "x = cl[variables]\n",
    "y = cl[category]\n",
    "x"
   ],
   "metadata": {
    "collapsed": false
   }
  },
  {
   "cell_type": "code",
   "execution_count": 89,
   "outputs": [
    {
     "data": {
      "text/plain": "            0         1         2\n0   -0.737903  4.412742 -0.875120\n1   -0.729769 -0.576393 -0.326751\n2    1.245697  1.064270 -0.848974\n3   -0.624941 -0.571901  0.138863\n4    0.062274 -0.549890 -0.344360\n..        ...       ...       ...\n204 -0.466796 -0.564412  0.075205\n205 -0.733949 -0.579389 -0.814588\n206  2.533456 -0.329782 -0.588658\n207  0.947479 -0.534460 -0.249906\n208 -0.262336 -0.464570 -0.400526\n\n[209 rows x 3 columns]",
      "text/html": "<div>\n<style scoped>\n    .dataframe tbody tr th:only-of-type {\n        vertical-align: middle;\n    }\n\n    .dataframe tbody tr th {\n        vertical-align: top;\n    }\n\n    .dataframe thead th {\n        text-align: right;\n    }\n</style>\n<table border=\"1\" class=\"dataframe\">\n  <thead>\n    <tr style=\"text-align: right;\">\n      <th></th>\n      <th>0</th>\n      <th>1</th>\n      <th>2</th>\n    </tr>\n  </thead>\n  <tbody>\n    <tr>\n      <th>0</th>\n      <td>-0.737903</td>\n      <td>4.412742</td>\n      <td>-0.875120</td>\n    </tr>\n    <tr>\n      <th>1</th>\n      <td>-0.729769</td>\n      <td>-0.576393</td>\n      <td>-0.326751</td>\n    </tr>\n    <tr>\n      <th>2</th>\n      <td>1.245697</td>\n      <td>1.064270</td>\n      <td>-0.848974</td>\n    </tr>\n    <tr>\n      <th>3</th>\n      <td>-0.624941</td>\n      <td>-0.571901</td>\n      <td>0.138863</td>\n    </tr>\n    <tr>\n      <th>4</th>\n      <td>0.062274</td>\n      <td>-0.549890</td>\n      <td>-0.344360</td>\n    </tr>\n    <tr>\n      <th>...</th>\n      <td>...</td>\n      <td>...</td>\n      <td>...</td>\n    </tr>\n    <tr>\n      <th>204</th>\n      <td>-0.466796</td>\n      <td>-0.564412</td>\n      <td>0.075205</td>\n    </tr>\n    <tr>\n      <th>205</th>\n      <td>-0.733949</td>\n      <td>-0.579389</td>\n      <td>-0.814588</td>\n    </tr>\n    <tr>\n      <th>206</th>\n      <td>2.533456</td>\n      <td>-0.329782</td>\n      <td>-0.588658</td>\n    </tr>\n    <tr>\n      <th>207</th>\n      <td>0.947479</td>\n      <td>-0.534460</td>\n      <td>-0.249906</td>\n    </tr>\n    <tr>\n      <th>208</th>\n      <td>-0.262336</td>\n      <td>-0.464570</td>\n      <td>-0.400526</td>\n    </tr>\n  </tbody>\n</table>\n<p>209 rows × 3 columns</p>\n</div>"
     },
     "execution_count": 89,
     "metadata": {},
     "output_type": "execute_result"
    }
   ],
   "source": [
    "x = StandardScaler().fit_transform(x)\n",
    "x = pd.DataFrame(x)\n",
    "x"
   ],
   "metadata": {
    "collapsed": false
   }
  },
  {
   "cell_type": "code",
   "execution_count": 113,
   "outputs": [
    {
     "name": "stdout",
     "output_type": "stream",
     "text": [
      "Explained variance ratio for PC1: 0.384\n",
      "Explained variance ratio for PC2: 0.342\n",
      "Cumulative explained variance up to PC1: 0.384\n",
      "Cumulative explained variance up to PC2: 0.726\n"
     ]
    }
   ],
   "source": [
    "from sklearn.decomposition import PCA\n",
    "pca = PCA(n_components=2)\n",
    "x_pca = pca.fit_transform(x)\n",
    "\n",
    "explained_variance_ratio = pca.explained_variance_ratio_\n",
    "\n",
    "cumulative_explained_variance_ratio = np.cumsum(explained_variance_ratio)\n",
    "\n",
    "# Print explained variance ratios for each principal component\n",
    "for i, ratio in enumerate(explained_variance_ratio):\n",
    "    print(f\"Explained variance ratio for PC{i+1}: {ratio:.3f}\")\n",
    "\n",
    "# Print cumulative explained variance ratios\n",
    "for i, ratio in enumerate(cumulative_explained_variance_ratio):\n",
    "    print(f\"Cumulative explained variance up to PC{i+1}: {ratio:.3f}\")"
   ],
   "metadata": {
    "collapsed": false
   }
  },
  {
   "cell_type": "code",
   "execution_count": 112,
   "outputs": [
    {
     "data": {
      "text/plain": "<Figure size 2000x2000 with 1 Axes>",
      "image/png": "[encoded data removed]"
     },
     "metadata": {},
     "output_type": "display_data"
    }
   ],
   "source": [
    "import matplotlib.pyplot as plt\n",
    "\n",
    "plt.figure(figsize=(20, 20))\n",
    "plt.scatter(x_pca[:, 0], x_pca[:, 1])\n",
    "plt.xlabel('Principal Component 1')\n",
    "plt.ylabel('Principal Component 2')\n",
    "plt.title('PCA Scatter Plot')\n",
    "\n",
    "# for i, category_label in enumerate(y):\n",
    "#     plt.annotate(category_label, (x_pca[i, 0], x_pca[i, 1]), textcoords=\"offset points\", xytext=(5,5), ha='center')\n",
    "plt.show()"
   ],
   "metadata": {
    "collapsed": false
   }
  },
  {
   "cell_type": "code",
   "execution_count": 116,
   "outputs": [
    {
     "data": {
      "application/vnd.plotly.v1+json": {
       "data": [
        {
         "customdata": [
          [
           "Animal-based solid fats"
          ],
          [
           "Apples"
          ],
          [
           "Bacon"
          ],
          [
           "Bananas"
          ],
          [
           "Beans"
          ],
          [
           "Beef"
          ],
          [
           "Beef dishes with gravy"
          ],
          [
           "Beers"
          ],
          [
           "Berry fruit"
          ],
          [
           "Breads"
          ],
          [
           "Breakfast cereal"
          ],
          [
           "Breakfast cereal beverages"
          ],
          [
           "Broccoli"
          ],
          [
           "Burgers"
          ],
          [
           "Butter"
          ],
          [
           "Butter products"
          ],
          [
           "Cabbage and similar brassica vegetables"
          ],
          [
           "Cake-type desserts"
          ],
          [
           "Cakes and cake mixes"
          ],
          [
           "Carrots"
          ],
          [
           "Cereal flours and starches"
          ],
          [
           "Cereal- or nut-based milk substitute"
          ],
          [
           "Cheese"
          ],
          [
           "Cheese substitute"
          ],
          [
           "Chemical raising agents and cooking ingredients"
          ],
          [
           "Chicken"
          ],
          [
           "Chocolate (plain"
          ],
          [
           "Chocolate and chocolate-based confectionery"
          ],
          [
           "Chocolate-based confectionery with nut fillings or additions"
          ],
          [
           "Chocolate-based confectionery with other fillings or additions"
          ],
          [
           "Cider"
          ],
          [
           "Citrus fruit"
          ],
          [
           "Coconut and coconut products"
          ],
          [
           "Coffee beverage"
          ],
          [
           "Coffee-based mixes"
          ],
          [
           "Cordial concentrate"
          ],
          [
           "Cordials"
          ],
          [
           "Corn chips"
          ],
          [
           "Cream"
          ],
          [
           "Cream substitute"
          ],
          [
           "Crumpets"
          ],
          [
           "Crustacea"
          ],
          [
           "Custard"
          ],
          [
           "Dairy & meat substitutes"
          ],
          [
           "Dairy blend"
          ],
          [
           "Dairy desserts"
          ],
          [
           "Domestic water (including tap"
          ],
          [
           "Doughnuts"
          ],
          [
           "Dried vine fruit"
          ],
          [
           "Drop scones"
          ],
          [
           "Dry coffee powder"
          ],
          [
           "Dry gravy mixes"
          ],
          [
           "Dry or concentrate coffee-based mixes"
          ],
          [
           "Dry soup mix"
          ],
          [
           "Dry soup mix containing meat"
          ],
          [
           "Eel"
          ],
          [
           "Egg dishes"
          ],
          [
           "Eggs"
          ],
          [
           "Energy drinks"
          ],
          [
           "English-style muffins"
          ],
          [
           "Essences"
          ],
          [
           "Extruded snacks"
          ],
          [
           "Feathered game"
          ],
          [
           "Fermented"
          ],
          [
           "Fin fish"
          ],
          [
           "Fish and seafood products"
          ],
          [
           "Flat breads (e.g. Pita bread)"
          ],
          [
           "Flavoured mineral waters"
          ],
          [
           "Fortified beverage flavourings prepared with water or milk"
          ],
          [
           "Fortified dry beverage flavourings"
          ],
          [
           "Fortified wines"
          ],
          [
           "Frankfurts and saveloys"
          ],
          [
           "Fried bread products and garlic breads"
          ],
          [
           "Fruit bar and fruit-based confectionery"
          ],
          [
           "Fruit drinks (ready to drink or made from concentrate)"
          ],
          [
           "Fruit juices"
          ],
          [
           "Fruit-based pickles"
          ],
          [
           "Gelatine"
          ],
          [
           "Grains (other than rice) and grain fractions"
          ],
          [
           "Gravies (prepared)"
          ],
          [
           "Ham"
          ],
          [
           "Herbs"
          ],
          [
           "Herbs(dried) and spices"
          ],
          [
           "Honey and sugar syrups"
          ],
          [
           "Human breast milk"
          ],
          [
           "Ice cream"
          ],
          [
           "Instant noodles and noodle products"
          ],
          [
           "Italian and French-style dressings"
          ],
          [
           "Jams and conserves"
          ],
          [
           "Kangaroo"
          ],
          [
           "Lamb and mutton"
          ],
          [
           "Leaf vegetables"
          ],
          [
           "Legume and pulse products"
          ],
          [
           "Legume based dips"
          ],
          [
           "Lemons and limes"
          ],
          [
           "Liver"
          ],
          [
           "Lollies and other confectionery"
          ],
          [
           "Margarine spreads with added phytosterols"
          ],
          [
           "Mature legumes and pulses"
          ],
          [
           "Mayonnaise and cream-style dressings"
          ],
          [
           "Meat substitutes"
          ],
          [
           "Milk"
          ],
          [
           "Mixtures of two or more groups of fruit"
          ],
          [
           "Mixtures of two or more vegetables"
          ],
          [
           "Molluscs"
          ],
          [
           "Monounsaturated margarine spreads"
          ],
          [
           "Monounsaturated oils"
          ],
          [
           "Muesli and cereal style bars"
          ],
          [
           "Muesli bar"
          ],
          [
           "Muffins"
          ],
          [
           "Mushrooms"
          ],
          [
           "Nut and seed based confectionery"
          ],
          [
           "Onion"
          ],
          [
           "Oranges"
          ],
          [
           "Other alcoholic beverages"
          ],
          [
           "Other citrus fruit"
          ],
          [
           "Other dried fruit including mixed dried fruit"
          ],
          [
           "Other fruit"
          ],
          [
           "Other fruiting vegetables"
          ],
          [
           "Other mammalian game"
          ],
          [
           "Other nuts and nut products and dishes"
          ],
          [
           "Other pome fruit"
          ],
          [
           "Other poultry"
          ],
          [
           "Other root vegetables"
          ],
          [
           "Other snacks"
          ],
          [
           "Other stone fruit"
          ],
          [
           "Other tropical and subtropical fruit"
          ],
          [
           "Other vegetables"
          ],
          [
           "Packed fin fish"
          ],
          [
           "Pancakes"
          ],
          [
           "Pasta and noodles"
          ],
          [
           "Pastry"
          ],
          [
           "Peaches and nectarines"
          ],
          [
           "Peanut products"
          ],
          [
           "Peanuts"
          ],
          [
           "Pears"
          ],
          [
           "Peas and edible-podded peas"
          ],
          [
           "Pineapples"
          ],
          [
           "Pizza"
          ],
          [
           "Polyunsaturated margarine spreads"
          ],
          [
           "Polyunsaturated oils"
          ],
          [
           "Popcorn"
          ],
          [
           "Pork"
          ],
          [
           "Porridge style"
          ],
          [
           "Potato crisps"
          ],
          [
           "Potato mixed dishes"
          ],
          [
           "Potato products"
          ],
          [
           "Potatoes"
          ],
          [
           "Poultry and feathered game"
          ],
          [
           "Poultry crumbed"
          ],
          [
           "Preserved fruit"
          ],
          [
           "Processed delicatessen meat"
          ],
          [
           "Processed meat"
          ],
          [
           "Pumpkin"
          ],
          [
           "Purchased packaged water including mineral water"
          ],
          [
           "Reptiles"
          ],
          [
           "Rice and rice grain fractions"
          ],
          [
           "Salt"
          ],
          [
           "Sandwiches and filled rolls"
          ],
          [
           "Sausage"
          ],
          [
           "Sausages"
          ],
          [
           "Savoury biscuits"
          ],
          [
           "Savoury filled or topped breads and bread rolls"
          ],
          [
           "Savoury pasta/noodle and sauce dishes"
          ],
          [
           "Savoury pastes"
          ],
          [
           "Savoury pastry products"
          ],
          [
           "Savoury rice-based dishes"
          ],
          [
           "Savoury sauces"
          ],
          [
           "Scones and rock cakes"
          ],
          [
           "Seaweeds"
          ],
          [
           "Seed products"
          ],
          [
           "Seeds"
          ],
          [
           "Slices"
          ],
          [
           "Smoked fish"
          ],
          [
           "Soft drinks"
          ],
          [
           "Soup containing meat"
          ],
          [
           "Soy-based beverage"
          ],
          [
           "Soy-based yoghurts"
          ],
          [
           "Spirits"
          ],
          [
           "Sport and protein"
          ],
          [
           "Sport and protein prepared beverages"
          ],
          [
           "Sprouts"
          ],
          [
           "Squash and zucchini"
          ],
          [
           "Stalk vegetables"
          ],
          [
           "Stock cubes and seasonings"
          ],
          [
           "Sugar"
          ],
          [
           "Sugar-based desserts"
          ],
          [
           "Sweet biscuits"
          ],
          [
           "Sweet breads"
          ],
          [
           "Sweet pastry products"
          ],
          [
           "Sweet spreads or sauces"
          ],
          [
           "Sweetcorn"
          ],
          [
           "Tea"
          ],
          [
           "Tomato"
          ],
          [
           "Tomato products"
          ],
          [
           "Tropical and subtropical fruit"
          ],
          [
           "Unfortified beverage flavourings prepared with water or milk"
          ],
          [
           "Unfortified dry beverage flavourings"
          ],
          [
           "Veal"
          ],
          [
           "Vegetable-based pickles"
          ],
          [
           "Vegetable-based solid fats"
          ],
          [
           "Vinegar"
          ],
          [
           "Water ice confection"
          ],
          [
           "Wild harvested mammalian meat"
          ],
          [
           "Wild harvested vegetables"
          ],
          [
           "Wines"
          ],
          [
           "Yeast"
          ],
          [
           "Yeast extracts"
          ],
          [
           "Yoghurt"
          ]
         ],
         "hovertemplate": "Principal Component 1=%{x}<br>Principal Component 2=%{y}<br>Category=%{customdata[0]}<extra></extra>",
         "legendgroup": "",
         "marker": {
          "color": "#636efa",
          "symbol": "circle"
         },
         "mode": "markers",
         "name": "",
         "orientation": "v",
         "showlegend": false,
         "x": [
          1.3230206579727732,
          -0.3720964318760321,
          1.6837702911198194,
          -0.6449048537414594,
          0.14763446403715252,
          1.6431245739532991,
          0.48908215311993003,
          -0.03452543272539764,
          -0.3054964241309329,
          -0.9300575006717785,
          -1.4685529631605854,
          -0.20437140899745987,
          0.14826095002890471,
          0.2538283440869434,
          1.1112498290298545,
          1.3274246070334177,
          0.0978081814305137,
          -1.1845100172768965,
          -1.080844475583063,
          -0.1482251574555696,
          -1.4134843220881392,
          -0.09461380413652082,
          1.5419841909865917,
          0.40270308969081264,
          -0.19153847976598884,
          1.512094704114682,
          -1.1705133405963222,
          -0.1634378753765844,
          -0.7278318863448326,
          -1.6656681891539222,
          -0.17483284121159323,
          -0.4150364382549531,
          0.20058770848835575,
          0.05546635031655985,
          -0.039794398880434526,
          -1.3394998000035991,
          -0.2922021518376195,
          -1.1418267260113428,
          0.45448049395204854,
          -0.23623087051333386,
          -1.040822723240572,
          1.2335772864884134,
          -0.2101748211808276,
          -0.10110701948898934,
          1.02212287521307,
          -0.23772852417819948,
          0.01118644355418452,
          -0.9234276227663845,
          -2.1316069441534586,
          -0.9793481635745055,
          0.9405610598938993,
          -1.2175076441866188,
          -0.9399010800367418,
          -1.526755317767273,
          -1.6372825605969752,
          1.2129411357882383,
          0.6576344214095144,
          0.90228873895472,
          -0.34186065968237506,
          -0.7786305249088532,
          -0.4337505036533402,
          -1.0008309866196399,
          1.3930175324558982,
          1.6183017121536767,
          1.3488740825016279,
          1.222109348670322,
          -1.0191425334124415,
          -0.2977384400746962,
          -0.045059795316011376,
          -1.162038783898768,
          -0.252798904480719,
          0.9727563883454491,
          -0.7215083652779113,
          -0.8294766427196044,
          -0.3053211573176687,
          -0.13689901421146067,
          -0.6423747120895559,
          4.8308802453695865,
          -0.9565018252923287,
          -0.09186058983797157,
          1.4748268784967078,
          0.1339438401424929,
          0.01487904253450353,
          -2.486805223611026,
          -0.08591937813499705,
          -0.37038676223367634,
          -0.4270136695062541,
          -0.11687322495074241,
          -2.1498443116226955,
          1.4551363351945614,
          1.591739379438054,
          0.11634637105246874,
          0.48791079231738355,
          0.34612459502435006,
          0.03678779894579696,
          1.2123901018866425,
          -2.5860141220547406,
          1.0381399934494895,
          0.28738525786862934,
          -0.0883400692955328,
          0.7833557618053313,
          0.032121017925174446,
          -0.3829948498256697,
          -0.07821814217401968,
          0.8661805256997519,
          0.8756705890560932,
          1.3114674172023748,
          -1.205437685288684,
          -2.089110747907286,
          -0.9771087670097046,
          0.13538248095963695,
          0.832496739943424,
          -0.0478665498833076,
          -0.20415519244987232,
          -0.01870951292602996,
          -0.1897834759582976,
          -1.7227249396618567,
          -0.27850908835522453,
          0.018708746443517055,
          1.572684566001937,
          1.048812443180349,
          -0.20751084547855356,
          1.4201319336253837,
          -0.33175581939158627,
          -1.0817219612616995,
          -0.4158942712289314,
          -0.26378258474486804,
          -0.11350201265355997,
          1.273056426495567,
          -0.4743547076536323,
          -0.8903675656107418,
          -0.8674847407146496,
          -0.25783641934459756,
          1.6193944564536973,
          1.6641365661247451,
          -0.36848107798611873,
          0.025660316212188762,
          -0.22271174625319304,
          -0.004978299467966809,
          0.948705716475472,
          1.311611908920749,
          -0.7727021056106351,
          1.5376986817838723,
          -0.5688159345716647,
          -0.7886706583085371,
          -0.2761547468682848,
          -0.9531830513080346,
          -0.31388805560932237,
          1.8110478379229065,
          0.4286616028531591,
          -0.9955596893028508,
          1.0215084448821121,
          0.5822142042307569,
          -0.10657357734533118,
          0.01118644355418452,
          1.4555079034742608,
          -1.3056645464826606,
          0.01118644355418452,
          -0.17987820191172202,
          1.0033496072607624,
          1.042666788962259,
          -1.3706192702774607,
          -0.07337298203733873,
          -0.34051402750971366,
          0.16552062606567677,
          -0.07301859196526961,
          -0.5330510618695652,
          -0.30184463610091183,
          -1.2312293520080297,
          1.5710585401169532,
          1.048512427938736,
          1.6025452870624521,
          -0.9825053230330424,
          1.2675258799127267,
          -0.16338686641661035,
          -0.05922236386936513,
          0.08957144305287382,
          -0.17273989126164369,
          0.004542897669692353,
          4.835365783826317,
          0.816444009282584,
          0.15859647616070496,
          0.06793104922320316,
          0.06894929362088233,
          -0.4467810769984915,
          -3.2830592745203693,
          -1.927368715498784,
          -1.5048759400324017,
          -1.142455789775923,
          -0.5932160022847903,
          -1.1268719332891506,
          -0.30964466581773675,
          0.019659226565777732,
          -0.0393895575272275,
          -0.1430194644160593,
          -0.4919996080143057,
          -0.07766436449674277,
          -1.1448380238227445,
          1.618557573675979,
          -0.20886032011775776,
          1.3223704452400895,
          0.01118644355418452,
          -0.5713519513231478,
          1.639431824336397,
          -0.4966228401467593,
          -0.01913024583231225,
          1.9433283489292976,
          0.6414210913368735,
          0.005987636894079234
         ],
         "xaxis": "x",
         "y": [
          4.291873104121389,
          -0.12091400839738067,
          0.4197235131808496,
          -0.2144834462839687,
          -0.4744917072639876,
          -0.8912018797908868,
          -0.24591158375250347,
          -0.0789394246568122,
          -0.13375327115556304,
          -0.583068468920626,
          -0.5921462492825464,
          -0.18111489651412666,
          -0.1944531456157595,
          -0.27428865395121554,
          3.435714790673525,
          4.2831989314275996,
          -0.16310586861150164,
          0.010956055572367852,
          0.17865424887539091,
          -0.11327642429437933,
          -0.7269584285568215,
          -0.045315377384404845,
          0.02577481638027179,
          0.7818946824561671,
          -0.09289280560557767,
          -0.4649961462234778,
          0.7999648071016664,
          1.1664984185947571,
          0.6805082508432975,
          0.19839048795674763,
          -0.08110412022711992,
          -0.12914751636093266,
          0.5696516594750691,
          -0.07798133591869262,
          -0.06792118659518595,
          -0.248497951914501,
          -0.0974579400139373,
          0.3953897098484642,
          1.1603204995012648,
          0.7692484755149895,
          -0.4547171405478882,
          -0.9347552582803583,
          -0.12259187208213629,
          0.11635106549162942,
          3.320392044114015,
          -0.19618989349940216,
          -0.0551848586782018,
          0.2231281095215266,
          -0.48224593713112557,
          -0.31778111813477355,
          -0.8335605141670231,
          -0.42265193981263577,
          -0.32738765207548015,
          -0.32173032304416066,
          -0.4833384966752539,
          -0.340168463911786,
          -0.19591167279336236,
          -0.12632824836873122,
          -0.10949048372655322,
          -0.6028495714424151,
          -0.1176501841978875,
          0.399855141321913,
          -0.7007821646719539,
          0.4339883459845583,
          -0.6715738632409944,
          -0.9185082423366733,
          -0.3987722364425017,
          -0.0982293466076551,
          -0.10568757822890049,
          -0.43389976586355367,
          -0.1004898073669244,
          0.17831941367406617,
          -0.03575977036280938,
          -0.13387437777354608,
          -0.10439920020801573,
          -0.10030651717142754,
          -0.19534566310762227,
          -3.682557321474458,
          -0.5500282609020085,
          -0.0844637065448961,
          -0.6287422437002077,
          -0.1290191822252848,
          -0.11719315722498255,
          -0.40859408615490256,
          0.04014072778813757,
          0.1337143011515472,
          -0.00830671732107398,
          0.7400601246640619,
          -0.3665217616039429,
          -1.0789000148950476,
          -0.6404552434832986,
          -0.1425659266408624,
          -0.7617930662037159,
          0.4526933520092342,
          -0.05448420881596866,
          -0.5150819840345621,
          -0.43975731927193545,
          3.220558239921736,
          -0.8587636457129348,
          1.2943768932542379,
          -0.408237625070912,
          -0.28099458788788784,
          -0.14256220543780662,
          -0.1471581672986443,
          -0.6739423645538978,
          2.672472832219788,
          4.3000260935702235,
          0.08056938478474736,
          -0.42201669724978297,
          0.20767915195423312,
          -0.17343253887800406,
          0.32746048418866375,
          -0.1758407831447642,
          -0.13632284084349747,
          -0.05935045428427795,
          -0.12569972503367155,
          -0.4391033278098345,
          -0.14236210690203635,
          -0.09232701037000308,
          -0.7916551166184496,
          1.5078838580006624,
          -0.11565814667762501,
          -0.21132206211247745,
          -0.1750505137183117,
          0.24593107966854955,
          -0.13998766622392347,
          -0.1430439487370349,
          -0.10497618747435866,
          -0.7515404556371946,
          -0.18396111900387338,
          -0.5154653961986853,
          0.16166702783495004,
          -0.1255824545681373,
          1.1487055598021985,
          1.0389219774817076,
          -0.1273786168971426,
          -0.47578254559772054,
          -0.11334192009761547,
          -0.34471849074399447,
          2.9678535003715845,
          4.300510059672264,
          0.4765222148293975,
          -0.3351018571862446,
          -0.20036780984381083,
          0.8691300182672063,
          -0.2063565816569686,
          0.17270183300059722,
          -0.22917808858384453,
          -1.241538081207535,
          -0.21788555045518546,
          -0.3070485850581072,
          -0.8869772088197426,
          -0.10450253996646477,
          -0.15058046385870968,
          -0.0551848586782018,
          -1.044470154410566,
          -0.44712165158182055,
          -0.0551848586782018,
          -0.25646159406699337,
          -0.027874533798182565,
          -0.34114377746116215,
          -0.2697432901697473,
          -0.3867719516197459,
          -0.2913258337451744,
          0.4981669935141046,
          -0.024266471969514546,
          -0.06764299090642797,
          -0.040969198923468605,
          -0.2750452814479175,
          -1.140103658802543,
          0.7851902267218916,
          0.4005308733861544,
          0.49723106097570635,
          -0.7820049901330839,
          -0.07742202991019502,
          -0.09243950778141005,
          -0.13952904357276738,
          -0.17096526141614937,
          -0.05611054659066319,
          -3.6374711828964674,
          -0.6523744549856856,
          -0.18736538030821961,
          -0.146736151055448,
          -0.14042762039730342,
          -0.28739824806082975,
          -0.5162385919517044,
          -0.48818974807902804,
          0.2362705762702795,
          -0.4309213893867455,
          0.11542198661023739,
          0.7034104061508732,
          -0.21333624085845904,
          -0.058039032433218875,
          -0.10345131253557838,
          -0.2118746766460339,
          -0.13908401342450616,
          -0.09995384089267392,
          -0.4614628420457968,
          -1.0088135714911275,
          0.27671616570789564,
          4.289695256662213,
          -0.0551848586782018,
          -0.14449303493519433,
          -1.2359782968675184,
          -0.277043449589378,
          -0.07187275842315288,
          -1.4384851922626372,
          -0.893657709064826,
          -0.23921006197101813
         ],
         "yaxis": "y",
         "type": "scatter"
        }
       ],
       "layout": {
        "template": {
         "data": {
          "histogram2dcontour": [
           {
            "type": "histogram2dcontour",
            "colorbar": {
             "outlinewidth": 0,
             "ticks": ""
            },
            "colorscale": [
             [
              0.0,
              "#0d0887"
             ],
             [
              0.1111111111111111,
              "#46039f"
             ],
             [
              0.2222222222222222,
              "#7201a8"
             ],
             [
              0.3333333333333333,
              "#9c179e"
             ],
             [
              0.4444444444444444,
              "#bd3786"
             ],
             [
              0.5555555555555556,
              "#d8576b"
             ],
             [
              0.6666666666666666,
              "#ed7953"
             ],
             [
              0.7777777777777778,
              "#fb9f3a"
             ],
             [
              0.8888888888888888,
              "#fdca26"
             ],
             [
              1.0,
              "#f0f921"
             ]
            ]
           }
          ],
          "choropleth": [
           {
            "type": "choropleth",
            "colorbar": {
             "outlinewidth": 0,
             "ticks": ""
            }
           }
          ],
          "histogram2d": [
           {
            "type": "histogram2d",
            "colorbar": {
             "outlinewidth": 0,
             "ticks": ""
            },
            "colorscale": [
             [
              0.0,
              "#0d0887"
             ],
             [
              0.1111111111111111,
              "#46039f"
             ],
             [
              0.2222222222222222,
              "#7201a8"
             ],
             [
              0.3333333333333333,
              "#9c179e"
             ],
             [
              0.4444444444444444,
              "#bd3786"
             ],
             [
              0.5555555555555556,
              "#d8576b"
             ],
             [
              0.6666666666666666,
              "#ed7953"
             ],
             [
              0.7777777777777778,
              "#fb9f3a"
             ],
             [
              0.8888888888888888,
              "#fdca26"
             ],
             [
              1.0,
              "#f0f921"
             ]
            ]
           }
          ],
          "heatmap": [
           {
            "type": "heatmap",
            "colorbar": {
             "outlinewidth": 0,
             "ticks": ""
            },
            "colorscale": [
             [
              0.0,
              "#0d0887"
             ],
             [
              0.1111111111111111,
              "#46039f"
             ],
             [
              0.2222222222222222,
              "#7201a8"
             ],
             [
              0.3333333333333333,
              "#9c179e"
             ],
             [
              0.4444444444444444,
              "#bd3786"
             ],
             [
              0.5555555555555556,
              "#d8576b"
             ],
             [
              0.6666666666666666,
              "#ed7953"
             ],
             [
              0.7777777777777778,
              "#fb9f3a"
             ],
             [
              0.8888888888888888,
              "#fdca26"
             ],
             [
              1.0,
              "#f0f921"
             ]
            ]
           }
          ],
          "heatmapgl": [
           {
            "type": "heatmapgl",
            "colorbar": {
             "outlinewidth": 0,
             "ticks": ""
            },
            "colorscale": [
             [
              0.0,
              "#0d0887"
             ],
             [
              0.1111111111111111,
              "#46039f"
             ],
             [
              0.2222222222222222,
              "#7201a8"
             ],
             [
              0.3333333333333333,
              "#9c179e"
             ],
             [
              0.4444444444444444,
              "#bd3786"
             ],
             [
              0.5555555555555556,
              "#d8576b"
             ],
             [
              0.6666666666666666,
              "#ed7953"
             ],
             [
              0.7777777777777778,
              "#fb9f3a"
             ],
             [
              0.8888888888888888,
              "#fdca26"
             ],
             [
              1.0,
              "#f0f921"
             ]
            ]
           }
          ],
          "contourcarpet": [
           {
            "type": "contourcarpet",
            "colorbar": {
             "outlinewidth": 0,
             "ticks": ""
            }
           }
          ],
          "contour": [
           {
            "type": "contour",
            "colorbar": {
             "outlinewidth": 0,
             "ticks": ""
            },
            "colorscale": [
             [
              0.0,
              "#0d0887"
             ],
             [
              0.1111111111111111,
              "#46039f"
             ],
             [
              0.2222222222222222,
              "#7201a8"
             ],
             [
              0.3333333333333333,
              "#9c179e"
             ],
             [
              0.4444444444444444,
              "#bd3786"
             ],
             [
              0.5555555555555556,
              "#d8576b"
             ],
             [
              0.6666666666666666,
              "#ed7953"
             ],
             [
              0.7777777777777778,
              "#fb9f3a"
             ],
             [
              0.8888888888888888,
              "#fdca26"
             ],
             [
              1.0,
              "#f0f921"
             ]
            ]
           }
          ],
          "surface": [
           {
            "type": "surface",
            "colorbar": {
             "outlinewidth": 0,
             "ticks": ""
            },
            "colorscale": [
             [
              0.0,
              "#0d0887"
             ],
             [
              0.1111111111111111,
              "#46039f"
             ],
             [
              0.2222222222222222,
              "#7201a8"
             ],
             [
              0.3333333333333333,
              "#9c179e"
             ],
             [
              0.4444444444444444,
              "#bd3786"
             ],
             [
              0.5555555555555556,
              "#d8576b"
             ],
             [
              0.6666666666666666,
              "#ed7953"
             ],
             [
              0.7777777777777778,
              "#fb9f3a"
             ],
             [
              0.8888888888888888,
              "#fdca26"
             ],
             [
              1.0,
              "#f0f921"
             ]
            ]
           }
          ],
          "mesh3d": [
           {
            "type": "mesh3d",
            "colorbar": {
             "outlinewidth": 0,
             "ticks": ""
            }
           }
          ],
          "scatter": [
           {
            "fillpattern": {
             "fillmode": "overlay",
             "size": 10,
             "solidity": 0.2
            },
            "type": "scatter"
           }
          ],
          "parcoords": [
           {
            "type": "parcoords",
            "line": {
             "colorbar": {
              "outlinewidth": 0,
              "ticks": ""
             }
            }
           }
          ],
          "scatterpolargl": [
           {
            "type": "scatterpolargl",
            "marker": {
             "colorbar": {
              "outlinewidth": 0,
              "ticks": ""
             }
            }
           }
          ],
          "bar": [
           {
            "error_x": {
             "color": "#2a3f5f"
            },
            "error_y": {
             "color": "#2a3f5f"
            },
            "marker": {
             "line": {
              "color": "#E5ECF6",
              "width": 0.5
             },
             "pattern": {
              "fillmode": "overlay",
              "size": 10,
              "solidity": 0.2
             }
            },
            "type": "bar"
           }
          ],
          "scattergeo": [
           {
            "type": "scattergeo",
            "marker": {
             "colorbar": {
              "outlinewidth": 0,
              "ticks": ""
             }
            }
           }
          ],
          "scatterpolar": [
           {
            "type": "scatterpolar",
            "marker": {
             "colorbar": {
              "outlinewidth": 0,
              "ticks": ""
             }
            }
           }
          ],
          "histogram": [
           {
            "marker": {
             "pattern": {
              "fillmode": "overlay",
              "size": 10,
              "solidity": 0.2
             }
            },
            "type": "histogram"
           }
          ],
          "scattergl": [
           {
            "type": "scattergl",
            "marker": {
             "colorbar": {
              "outlinewidth": 0,
              "ticks": ""
             }
            }
           }
          ],
          "scatter3d": [
           {
            "type": "scatter3d",
            "line": {
             "colorbar": {
              "outlinewidth": 0,
              "ticks": ""
             }
            },
            "marker": {
             "colorbar": {
              "outlinewidth": 0,
              "ticks": ""
             }
            }
           }
          ],
          "scattermapbox": [
           {
            "type": "scattermapbox",
            "marker": {
             "colorbar": {
              "outlinewidth": 0,
              "ticks": ""
             }
            }
           }
          ],
          "scatterternary": [
           {
            "type": "scatterternary",
            "marker": {
             "colorbar": {
              "outlinewidth": 0,
              "ticks": ""
             }
            }
           }
          ],
          "scattercarpet": [
           {
            "type": "scattercarpet",
            "marker": {
             "colorbar": {
              "outlinewidth": 0,
              "ticks": ""
             }
            }
           }
          ],
          "carpet": [
           {
            "aaxis": {
             "endlinecolor": "#2a3f5f",
             "gridcolor": "white",
             "linecolor": "white",
             "minorgridcolor": "white",
             "startlinecolor": "#2a3f5f"
            },
            "baxis": {
             "endlinecolor": "#2a3f5f",
             "gridcolor": "white",
             "linecolor": "white",
             "minorgridcolor": "white",
             "startlinecolor": "#2a3f5f"
            },
            "type": "carpet"
           }
          ],
          "table": [
           {
            "cells": {
             "fill": {
              "color": "#EBF0F8"
             },
             "line": {
              "color": "white"
             }
            },
            "header": {
             "fill": {
              "color": "#C8D4E3"
             },
             "line": {
              "color": "white"
             }
            },
            "type": "table"
           }
          ],
          "barpolar": [
           {
            "marker": {
             "line": {
              "color": "#E5ECF6",
              "width": 0.5
             },
             "pattern": {
              "fillmode": "overlay",
              "size": 10,
              "solidity": 0.2
             }
            },
            "type": "barpolar"
           }
          ],
          "pie": [
           {
            "automargin": true,
            "type": "pie"
           }
          ]
         },
         "layout": {
          "autotypenumbers": "strict",
          "colorway": [
           "#636efa",
           "#EF553B",
           "#00cc96",
           "#ab63fa",
           "#FFA15A",
           "#19d3f3",
           "#FF6692",
           "#B6E880",
           "#FF97FF",
           "#FECB52"
          ],
          "font": {
           "color": "#2a3f5f"
          },
          "hovermode": "closest",
          "hoverlabel": {
           "align": "left"
          },
          "paper_bgcolor": "white",
          "plot_bgcolor": "#E5ECF6",
          "polar": {
           "bgcolor": "#E5ECF6",
           "angularaxis": {
            "gridcolor": "white",
            "linecolor": "white",
            "ticks": ""
           },
           "radialaxis": {
            "gridcolor": "white",
            "linecolor": "white",
            "ticks": ""
           }
          },
          "ternary": {
           "bgcolor": "#E5ECF6",
           "aaxis": {
            "gridcolor": "white",
            "linecolor": "white",
            "ticks": ""
           },
           "baxis": {
            "gridcolor": "white",
            "linecolor": "white",
            "ticks": ""
           },
           "caxis": {
            "gridcolor": "white",
            "linecolor": "white",
            "ticks": ""
           }
          },
          "coloraxis": {
           "colorbar": {
            "outlinewidth": 0,
            "ticks": ""
           }
          },
          "colorscale": {
           "sequential": [
            [
             0.0,
             "#0d0887"
            ],
            [
             0.1111111111111111,
             "#46039f"
            ],
            [
             0.2222222222222222,
             "#7201a8"
            ],
            [
             0.3333333333333333,
             "#9c179e"
            ],
            [
             0.4444444444444444,
             "#bd3786"
            ],
            [
             0.5555555555555556,
             "#d8576b"
            ],
            [
             0.6666666666666666,
             "#ed7953"
            ],
            [
             0.7777777777777778,
             "#fb9f3a"
            ],
            [
             0.8888888888888888,
             "#fdca26"
            ],
            [
             1.0,
             "#f0f921"
            ]
           ],
           "sequentialminus": [
            [
             0.0,
             "#0d0887"
            ],
            [
             0.1111111111111111,
             "#46039f"
            ],
            [
             0.2222222222222222,
             "#7201a8"
            ],
            [
             0.3333333333333333,
             "#9c179e"
            ],
            [
             0.4444444444444444,
             "#bd3786"
            ],
            [
             0.5555555555555556,
             "#d8576b"
            ],
            [
             0.6666666666666666,
             "#ed7953"
            ],
            [
             0.7777777777777778,
             "#fb9f3a"
            ],
            [
             0.8888888888888888,
             "#fdca26"
            ],
            [
             1.0,
             "#f0f921"
            ]
           ],
           "diverging": [
            [
             0,
             "#8e0152"
            ],
            [
             0.1,
             "#c51b7d"
            ],
            [
             0.2,
             "#de77ae"
            ],
            [
             0.3,
             "#f1b6da"
            ],
            [
             0.4,
             "#fde0ef"
            ],
            [
             0.5,
             "#f7f7f7"
            ],
            [
             0.6,
             "#e6f5d0"
            ],
            [
             0.7,
             "#b8e186"
            ],
            [
             0.8,
             "#7fbc41"
            ],
            [
             0.9,
             "#4d9221"
            ],
            [
             1,
             "#276419"
            ]
           ]
          },
          "xaxis": {
           "gridcolor": "white",
           "linecolor": "white",
           "ticks": "",
           "title": {
            "standoff": 15
           },
           "zerolinecolor": "white",
           "automargin": true,
           "zerolinewidth": 2
          },
          "yaxis": {
           "gridcolor": "white",
           "linecolor": "white",
           "ticks": "",
           "title": {
            "standoff": 15
           },
           "zerolinecolor": "white",
           "automargin": true,
           "zerolinewidth": 2
          },
          "scene": {
           "xaxis": {
            "backgroundcolor": "#E5ECF6",
            "gridcolor": "white",
            "linecolor": "white",
            "showbackground": true,
            "ticks": "",
            "zerolinecolor": "white",
            "gridwidth": 2
           },
           "yaxis": {
            "backgroundcolor": "#E5ECF6",
            "gridcolor": "white",
            "linecolor": "white",
            "showbackground": true,
            "ticks": "",
            "zerolinecolor": "white",
            "gridwidth": 2
           },
           "zaxis": {
            "backgroundcolor": "#E5ECF6",
            "gridcolor": "white",
            "linecolor": "white",
            "showbackground": true,
            "ticks": "",
            "zerolinecolor": "white",
            "gridwidth": 2
           }
          },
          "shapedefaults": {
           "line": {
            "color": "#2a3f5f"
           }
          },
          "annotationdefaults": {
           "arrowcolor": "#2a3f5f",
           "arrowhead": 0,
           "arrowwidth": 1
          },
          "geo": {
           "bgcolor": "white",
           "landcolor": "#E5ECF6",
           "subunitcolor": "white",
           "showland": true,
           "showlakes": true,
           "lakecolor": "white"
          },
          "title": {
           "x": 0.05
          },
          "mapbox": {
           "style": "light"
          }
         }
        },
        "xaxis": {
         "anchor": "y",
         "domain": [
          0.0,
          1.0
         ],
         "title": {
          "text": "Principal Component 1"
         }
        },
        "yaxis": {
         "anchor": "x",
         "domain": [
          0.0,
          1.0
         ],
         "title": {
          "text": "Principal Component 2"
         }
        },
        "legend": {
         "tracegroupgap": 0
        },
        "margin": {
         "t": 60
        },
        "title": {
         "text": "PCA Scatter Plot"
        },
        "width": 1300,
        "height": 1300
       },
       "config": {
        "plotlyServerURL": "https://plot.ly"
       }
      },
      "text/html": "<div>                            <div id=\"7117b9e4-393e-4d62-a301-9fc15ee70221\" class=\"plotly-graph-div\" style=\"height:1300px; width:1300px;\"></div>            <script type=\"text/javascript\">                require([\"plotly\"], function(Plotly) {                    window.PLOTLYENV=window.PLOTLYENV || {};                                    if (document.getElementById(\"7117b9e4-393e-4d62-a301-9fc15ee70221\")) {                    Plotly.newPlot(                        \"7117b9e4-393e-4d62-a301-9fc15ee70221\",                        [{\"customdata\":[[\"Animal-based solid fats\"],[\"Apples\"],[\"Bacon\"],[\"Bananas\"],[\"Beans\"],[\"Beef\"],[\"Beef dishes with gravy\"],[\"Beers\"],[\"Berry fruit\"],[\"Breads\"],[\"Breakfast cereal\"],[\"Breakfast cereal beverages\"],[\"Broccoli\"],[\"Burgers\"],[\"Butter\"],[\"Butter products\"],[\"Cabbage and similar brassica vegetables\"],[\"Cake-type desserts\"],[\"Cakes and cake mixes\"],[\"Carrots\"],[\"Cereal flours and starches\"],[\"Cereal- or nut-based milk substitute\"],[\"Cheese\"],[\"Cheese substitute\"],[\"Chemical raising agents and cooking ingredients\"],[\"Chicken\"],[\"Chocolate (plain\"],[\"Chocolate and chocolate-based confectionery\"],[\"Chocolate-based confectionery with nut fillings or additions\"],[\"Chocolate-based confectionery with other fillings or additions\"],[\"Cider\"],[\"Citrus fruit\"],[\"Coconut and coconut products\"],[\"Coffee beverage\"],[\"Coffee-based mixes\"],[\"Cordial concentrate\"],[\"Cordials\"],[\"Corn chips\"],[\"Cream\"],[\"Cream substitute\"],[\"Crumpets\"],[\"Crustacea\"],[\"Custard\"],[\"Dairy & meat substitutes\"],[\"Dairy blend\"],[\"Dairy desserts\"],[\"Domestic water (including tap\"],[\"Doughnuts\"],[\"Dried vine fruit\"],[\"Drop scones\"],[\"Dry coffee powder\"],[\"Dry gravy mixes\"],[\"Dry or concentrate coffee-based mixes\"],[\"Dry soup mix\"],[\"Dry soup mix containing meat\"],[\"Eel\"],[\"Egg dishes\"],[\"Eggs\"],[\"Energy drinks\"],[\"English-style muffins\"],[\"Essences\"],[\"Extruded snacks\"],[\"Feathered game\"],[\"Fermented\"],[\"Fin fish\"],[\"Fish and seafood products\"],[\"Flat breads (e.g. Pita bread)\"],[\"Flavoured mineral waters\"],[\"Fortified beverage flavourings prepared with water or milk\"],[\"Fortified dry beverage flavourings\"],[\"Fortified wines\"],[\"Frankfurts and saveloys\"],[\"Fried bread products and garlic breads\"],[\"Fruit bar and fruit-based confectionery\"],[\"Fruit drinks (ready to drink or made from concentrate)\"],[\"Fruit juices\"],[\"Fruit-based pickles\"],[\"Gelatine\"],[\"Grains (other than rice) and grain fractions\"],[\"Gravies (prepared)\"],[\"Ham\"],[\"Herbs\"],[\"Herbs(dried) and spices\"],[\"Honey and sugar syrups\"],[\"Human breast milk\"],[\"Ice cream\"],[\"Instant noodles and noodle products\"],[\"Italian and French-style dressings\"],[\"Jams and conserves\"],[\"Kangaroo\"],[\"Lamb and mutton\"],[\"Leaf vegetables\"],[\"Legume and pulse products\"],[\"Legume based dips\"],[\"Lemons and limes\"],[\"Liver\"],[\"Lollies and other confectionery\"],[\"Margarine spreads with added phytosterols\"],[\"Mature legumes and pulses\"],[\"Mayonnaise and cream-style dressings\"],[\"Meat substitutes\"],[\"Milk\"],[\"Mixtures of two or more groups of fruit\"],[\"Mixtures of two or more vegetables\"],[\"Molluscs\"],[\"Monounsaturated margarine spreads\"],[\"Monounsaturated oils\"],[\"Muesli and cereal style bars\"],[\"Muesli bar\"],[\"Muffins\"],[\"Mushrooms\"],[\"Nut and seed based confectionery\"],[\"Onion\"],[\"Oranges\"],[\"Other alcoholic beverages\"],[\"Other citrus fruit\"],[\"Other dried fruit including mixed dried fruit\"],[\"Other fruit\"],[\"Other fruiting vegetables\"],[\"Other mammalian game\"],[\"Other nuts and nut products and dishes\"],[\"Other pome fruit\"],[\"Other poultry\"],[\"Other root vegetables\"],[\"Other snacks\"],[\"Other stone fruit\"],[\"Other tropical and subtropical fruit\"],[\"Other vegetables\"],[\"Packed fin fish\"],[\"Pancakes\"],[\"Pasta and noodles\"],[\"Pastry\"],[\"Peaches and nectarines\"],[\"Peanut products\"],[\"Peanuts\"],[\"Pears\"],[\"Peas and edible-podded peas\"],[\"Pineapples\"],[\"Pizza\"],[\"Polyunsaturated margarine spreads\"],[\"Polyunsaturated oils\"],[\"Popcorn\"],[\"Pork\"],[\"Porridge style\"],[\"Potato crisps\"],[\"Potato mixed dishes\"],[\"Potato products\"],[\"Potatoes\"],[\"Poultry and feathered game\"],[\"Poultry crumbed\"],[\"Preserved fruit\"],[\"Processed delicatessen meat\"],[\"Processed meat\"],[\"Pumpkin\"],[\"Purchased packaged water including mineral water\"],[\"Reptiles\"],[\"Rice and rice grain fractions\"],[\"Salt\"],[\"Sandwiches and filled rolls\"],[\"Sausage\"],[\"Sausages\"],[\"Savoury biscuits\"],[\"Savoury filled or topped breads and bread rolls\"],[\"Savoury pasta/noodle and sauce dishes\"],[\"Savoury pastes\"],[\"Savoury pastry products\"],[\"Savoury rice-based dishes\"],[\"Savoury sauces\"],[\"Scones and rock cakes\"],[\"Seaweeds\"],[\"Seed products\"],[\"Seeds\"],[\"Slices\"],[\"Smoked fish\"],[\"Soft drinks\"],[\"Soup containing meat\"],[\"Soy-based beverage\"],[\"Soy-based yoghurts\"],[\"Spirits\"],[\"Sport and protein\"],[\"Sport and protein prepared beverages\"],[\"Sprouts\"],[\"Squash and zucchini\"],[\"Stalk vegetables\"],[\"Stock cubes and seasonings\"],[\"Sugar\"],[\"Sugar-based desserts\"],[\"Sweet biscuits\"],[\"Sweet breads\"],[\"Sweet pastry products\"],[\"Sweet spreads or sauces\"],[\"Sweetcorn\"],[\"Tea\"],[\"Tomato\"],[\"Tomato products\"],[\"Tropical and subtropical fruit\"],[\"Unfortified beverage flavourings prepared with water or milk\"],[\"Unfortified dry beverage flavourings\"],[\"Veal\"],[\"Vegetable-based pickles\"],[\"Vegetable-based solid fats\"],[\"Vinegar\"],[\"Water ice confection\"],[\"Wild harvested mammalian meat\"],[\"Wild harvested vegetables\"],[\"Wines\"],[\"Yeast\"],[\"Yeast extracts\"],[\"Yoghurt\"]],\"hovertemplate\":\"Principal Component 1=%{x}<br>Principal Component 2=%{y}<br>Category=%{customdata[0]}<extra></extra>\",\"legendgroup\":\"\",\"marker\":{\"color\":\"#636efa\",\"symbol\":\"circle\"},\"mode\":\"markers\",\"name\":\"\",\"orientation\":\"v\",\"showlegend\":false,\"x\":[1.3230206579727732,-0.3720964318760321,1.6837702911198194,-0.6449048537414594,0.14763446403715252,1.6431245739532991,0.48908215311993003,-0.03452543272539764,-0.3054964241309329,-0.9300575006717785,-1.4685529631605854,-0.20437140899745987,0.14826095002890471,0.2538283440869434,1.1112498290298545,1.3274246070334177,0.0978081814305137,-1.1845100172768965,-1.080844475583063,-0.1482251574555696,-1.4134843220881392,-0.09461380413652082,1.5419841909865917,0.40270308969081264,-0.19153847976598884,1.512094704114682,-1.1705133405963222,-0.1634378753765844,-0.7278318863448326,-1.6656681891539222,-0.17483284121159323,-0.4150364382549531,0.20058770848835575,0.05546635031655985,-0.039794398880434526,-1.3394998000035991,-0.2922021518376195,-1.1418267260113428,0.45448049395204854,-0.23623087051333386,-1.040822723240572,1.2335772864884134,-0.2101748211808276,-0.10110701948898934,1.02212287521307,-0.23772852417819948,0.01118644355418452,-0.9234276227663845,-2.1316069441534586,-0.9793481635745055,0.9405610598938993,-1.2175076441866188,-0.9399010800367418,-1.526755317767273,-1.6372825605969752,1.2129411357882383,0.6576344214095144,0.90228873895472,-0.34186065968237506,-0.7786305249088532,-0.4337505036533402,-1.0008309866196399,1.3930175324558982,1.6183017121536767,1.3488740825016279,1.222109348670322,-1.0191425334124415,-0.2977384400746962,-0.045059795316011376,-1.162038783898768,-0.252798904480719,0.9727563883454491,-0.7215083652779113,-0.8294766427196044,-0.3053211573176687,-0.13689901421146067,-0.6423747120895559,4.8308802453695865,-0.9565018252923287,-0.09186058983797157,1.4748268784967078,0.1339438401424929,0.01487904253450353,-2.486805223611026,-0.08591937813499705,-0.37038676223367634,-0.4270136695062541,-0.11687322495074241,-2.1498443116226955,1.4551363351945614,1.591739379438054,0.11634637105246874,0.48791079231738355,0.34612459502435006,0.03678779894579696,1.2123901018866425,-2.5860141220547406,1.0381399934494895,0.28738525786862934,-0.0883400692955328,0.7833557618053313,0.032121017925174446,-0.3829948498256697,-0.07821814217401968,0.8661805256997519,0.8756705890560932,1.3114674172023748,-1.205437685288684,-2.089110747907286,-0.9771087670097046,0.13538248095963695,0.832496739943424,-0.0478665498833076,-0.20415519244987232,-0.01870951292602996,-0.1897834759582976,-1.7227249396618567,-0.27850908835522453,0.018708746443517055,1.572684566001937,1.048812443180349,-0.20751084547855356,1.4201319336253837,-0.33175581939158627,-1.0817219612616995,-0.4158942712289314,-0.26378258474486804,-0.11350201265355997,1.273056426495567,-0.4743547076536323,-0.8903675656107418,-0.8674847407146496,-0.25783641934459756,1.6193944564536973,1.6641365661247451,-0.36848107798611873,0.025660316212188762,-0.22271174625319304,-0.004978299467966809,0.948705716475472,1.311611908920749,-0.7727021056106351,1.5376986817838723,-0.5688159345716647,-0.7886706583085371,-0.2761547468682848,-0.9531830513080346,-0.31388805560932237,1.8110478379229065,0.4286616028531591,-0.9955596893028508,1.0215084448821121,0.5822142042307569,-0.10657357734533118,0.01118644355418452,1.4555079034742608,-1.3056645464826606,0.01118644355418452,-0.17987820191172202,1.0033496072607624,1.042666788962259,-1.3706192702774607,-0.07337298203733873,-0.34051402750971366,0.16552062606567677,-0.07301859196526961,-0.5330510618695652,-0.30184463610091183,-1.2312293520080297,1.5710585401169532,1.048512427938736,1.6025452870624521,-0.9825053230330424,1.2675258799127267,-0.16338686641661035,-0.05922236386936513,0.08957144305287382,-0.17273989126164369,0.004542897669692353,4.835365783826317,0.816444009282584,0.15859647616070496,0.06793104922320316,0.06894929362088233,-0.4467810769984915,-3.2830592745203693,-1.927368715498784,-1.5048759400324017,-1.142455789775923,-0.5932160022847903,-1.1268719332891506,-0.30964466581773675,0.019659226565777732,-0.0393895575272275,-0.1430194644160593,-0.4919996080143057,-0.07766436449674277,-1.1448380238227445,1.618557573675979,-0.20886032011775776,1.3223704452400895,0.01118644355418452,-0.5713519513231478,1.639431824336397,-0.4966228401467593,-0.01913024583231225,1.9433283489292976,0.6414210913368735,0.005987636894079234],\"xaxis\":\"x\",\"y\":[4.291873104121389,-0.12091400839738067,0.4197235131808496,-0.2144834462839687,-0.4744917072639876,-0.8912018797908868,-0.24591158375250347,-0.0789394246568122,-0.13375327115556304,-0.583068468920626,-0.5921462492825464,-0.18111489651412666,-0.1944531456157595,-0.27428865395121554,3.435714790673525,4.2831989314275996,-0.16310586861150164,0.010956055572367852,0.17865424887539091,-0.11327642429437933,-0.7269584285568215,-0.045315377384404845,0.02577481638027179,0.7818946824561671,-0.09289280560557767,-0.4649961462234778,0.7999648071016664,1.1664984185947571,0.6805082508432975,0.19839048795674763,-0.08110412022711992,-0.12914751636093266,0.5696516594750691,-0.07798133591869262,-0.06792118659518595,-0.248497951914501,-0.0974579400139373,0.3953897098484642,1.1603204995012648,0.7692484755149895,-0.4547171405478882,-0.9347552582803583,-0.12259187208213629,0.11635106549162942,3.320392044114015,-0.19618989349940216,-0.0551848586782018,0.2231281095215266,-0.48224593713112557,-0.31778111813477355,-0.8335605141670231,-0.42265193981263577,-0.32738765207548015,-0.32173032304416066,-0.4833384966752539,-0.340168463911786,-0.19591167279336236,-0.12632824836873122,-0.10949048372655322,-0.6028495714424151,-0.1176501841978875,0.399855141321913,-0.7007821646719539,0.4339883459845583,-0.6715738632409944,-0.9185082423366733,-0.3987722364425017,-0.0982293466076551,-0.10568757822890049,-0.43389976586355367,-0.1004898073669244,0.17831941367406617,-0.03575977036280938,-0.13387437777354608,-0.10439920020801573,-0.10030651717142754,-0.19534566310762227,-3.682557321474458,-0.5500282609020085,-0.0844637065448961,-0.6287422437002077,-0.1290191822252848,-0.11719315722498255,-0.40859408615490256,0.04014072778813757,0.1337143011515472,-0.00830671732107398,0.7400601246640619,-0.3665217616039429,-1.0789000148950476,-0.6404552434832986,-0.1425659266408624,-0.7617930662037159,0.4526933520092342,-0.05448420881596866,-0.5150819840345621,-0.43975731927193545,3.220558239921736,-0.8587636457129348,1.2943768932542379,-0.408237625070912,-0.28099458788788784,-0.14256220543780662,-0.1471581672986443,-0.6739423645538978,2.672472832219788,4.3000260935702235,0.08056938478474736,-0.42201669724978297,0.20767915195423312,-0.17343253887800406,0.32746048418866375,-0.1758407831447642,-0.13632284084349747,-0.05935045428427795,-0.12569972503367155,-0.4391033278098345,-0.14236210690203635,-0.09232701037000308,-0.7916551166184496,1.5078838580006624,-0.11565814667762501,-0.21132206211247745,-0.1750505137183117,0.24593107966854955,-0.13998766622392347,-0.1430439487370349,-0.10497618747435866,-0.7515404556371946,-0.18396111900387338,-0.5154653961986853,0.16166702783495004,-0.1255824545681373,1.1487055598021985,1.0389219774817076,-0.1273786168971426,-0.47578254559772054,-0.11334192009761547,-0.34471849074399447,2.9678535003715845,4.300510059672264,0.4765222148293975,-0.3351018571862446,-0.20036780984381083,0.8691300182672063,-0.2063565816569686,0.17270183300059722,-0.22917808858384453,-1.241538081207535,-0.21788555045518546,-0.3070485850581072,-0.8869772088197426,-0.10450253996646477,-0.15058046385870968,-0.0551848586782018,-1.044470154410566,-0.44712165158182055,-0.0551848586782018,-0.25646159406699337,-0.027874533798182565,-0.34114377746116215,-0.2697432901697473,-0.3867719516197459,-0.2913258337451744,0.4981669935141046,-0.024266471969514546,-0.06764299090642797,-0.040969198923468605,-0.2750452814479175,-1.140103658802543,0.7851902267218916,0.4005308733861544,0.49723106097570635,-0.7820049901330839,-0.07742202991019502,-0.09243950778141005,-0.13952904357276738,-0.17096526141614937,-0.05611054659066319,-3.6374711828964674,-0.6523744549856856,-0.18736538030821961,-0.146736151055448,-0.14042762039730342,-0.28739824806082975,-0.5162385919517044,-0.48818974807902804,0.2362705762702795,-0.4309213893867455,0.11542198661023739,0.7034104061508732,-0.21333624085845904,-0.058039032433218875,-0.10345131253557838,-0.2118746766460339,-0.13908401342450616,-0.09995384089267392,-0.4614628420457968,-1.0088135714911275,0.27671616570789564,4.289695256662213,-0.0551848586782018,-0.14449303493519433,-1.2359782968675184,-0.277043449589378,-0.07187275842315288,-1.4384851922626372,-0.893657709064826,-0.23921006197101813],\"yaxis\":\"y\",\"type\":\"scatter\"}],                        {\"template\":{\"data\":{\"histogram2dcontour\":[{\"type\":\"histogram2dcontour\",\"colorbar\":{\"outlinewidth\":0,\"ticks\":\"\"},\"colorscale\":[[0.0,\"#0d0887\"],[0.1111111111111111,\"#46039f\"],[0.2222222222222222,\"#7201a8\"],[0.3333333333333333,\"#9c179e\"],[0.4444444444444444,\"#bd3786\"],[0.5555555555555556,\"#d8576b\"],[0.6666666666666666,\"#ed7953\"],[0.7777777777777778,\"#fb9f3a\"],[0.8888888888888888,\"#fdca26\"],[1.0,\"#f0f921\"]]}],\"choropleth\":[{\"type\":\"choropleth\",\"colorbar\":{\"outlinewidth\":0,\"ticks\":\"\"}}],\"histogram2d\":[{\"type\":\"histogram2d\",\"colorbar\":{\"outlinewidth\":0,\"ticks\":\"\"},\"colorscale\":[[0.0,\"#0d0887\"],[0.1111111111111111,\"#46039f\"],[0.2222222222222222,\"#7201a8\"],[0.3333333333333333,\"#9c179e\"],[0.4444444444444444,\"#bd3786\"],[0.5555555555555556,\"#d8576b\"],[0.6666666666666666,\"#ed7953\"],[0.7777777777777778,\"#fb9f3a\"],[0.8888888888888888,\"#fdca26\"],[1.0,\"#f0f921\"]]}],\"heatmap\":[{\"type\":\"heatmap\",\"colorbar\":{\"outlinewidth\":0,\"ticks\":\"\"},\"colorscale\":[[0.0,\"#0d0887\"],[0.1111111111111111,\"#46039f\"],[0.2222222222222222,\"#7201a8\"],[0.3333333333333333,\"#9c179e\"],[0.4444444444444444,\"#bd3786\"],[0.5555555555555556,\"#d8576b\"],[0.6666666666666666,\"#ed7953\"],[0.7777777777777778,\"#fb9f3a\"],[0.8888888888888888,\"#fdca26\"],[1.0,\"#f0f921\"]]}],\"heatmapgl\":[{\"type\":\"heatmapgl\",\"colorbar\":{\"outlinewidth\":0,\"ticks\":\"\"},\"colorscale\":[[0.0,\"#0d0887\"],[0.1111111111111111,\"#46039f\"],[0.2222222222222222,\"#7201a8\"],[0.3333333333333333,\"#9c179e\"],[0.4444444444444444,\"#bd3786\"],[0.5555555555555556,\"#d8576b\"],[0.6666666666666666,\"#ed7953\"],[0.7777777777777778,\"#fb9f3a\"],[0.8888888888888888,\"#fdca26\"],[1.0,\"#f0f921\"]]}],\"contourcarpet\":[{\"type\":\"contourcarpet\",\"colorbar\":{\"outlinewidth\":0,\"ticks\":\"\"}}],\"contour\":[{\"type\":\"contour\",\"colorbar\":{\"outlinewidth\":0,\"ticks\":\"\"},\"colorscale\":[[0.0,\"#0d0887\"],[0.1111111111111111,\"#46039f\"],[0.2222222222222222,\"#7201a8\"],[0.3333333333333333,\"#9c179e\"],[0.4444444444444444,\"#bd3786\"],[0.5555555555555556,\"#d8576b\"],[0.6666666666666666,\"#ed7953\"],[0.7777777777777778,\"#fb9f3a\"],[0.8888888888888888,\"#fdca26\"],[1.0,\"#f0f921\"]]}],\"surface\":[{\"type\":\"surface\",\"colorbar\":{\"outlinewidth\":0,\"ticks\":\"\"},\"colorscale\":[[0.0,\"#0d0887\"],[0.1111111111111111,\"#46039f\"],[0.2222222222222222,\"#7201a8\"],[0.3333333333333333,\"#9c179e\"],[0.4444444444444444,\"#bd3786\"],[0.5555555555555556,\"#d8576b\"],[0.6666666666666666,\"#ed7953\"],[0.7777777777777778,\"#fb9f3a\"],[0.8888888888888888,\"#fdca26\"],[1.0,\"#f0f921\"]]}],\"mesh3d\":[{\"type\":\"mesh3d\",\"colorbar\":{\"outlinewidth\":0,\"ticks\":\"\"}}],\"scatter\":[{\"fillpattern\":{\"fillmode\":\"overlay\",\"size\":10,\"solidity\":0.2},\"type\":\"scatter\"}],\"parcoords\":[{\"type\":\"parcoords\",\"line\":{\"colorbar\":{\"outlinewidth\":0,\"ticks\":\"\"}}}],\"scatterpolargl\":[{\"type\":\"scatterpolargl\",\"marker\":{\"colorbar\":{\"outlinewidth\":0,\"ticks\":\"\"}}}],\"bar\":[{\"error_x\":{\"color\":\"#2a3f5f\"},\"error_y\":{\"color\":\"#2a3f5f\"},\"marker\":{\"line\":{\"color\":\"#E5ECF6\",\"width\":0.5},\"pattern\":{\"fillmode\":\"overlay\",\"size\":10,\"solidity\":0.2}},\"type\":\"bar\"}],\"scattergeo\":[{\"type\":\"scattergeo\",\"marker\":{\"colorbar\":{\"outlinewidth\":0,\"ticks\":\"\"}}}],\"scatterpolar\":[{\"type\":\"scatterpolar\",\"marker\":{\"colorbar\":{\"outlinewidth\":0,\"ticks\":\"\"}}}],\"histogram\":[{\"marker\":{\"pattern\":{\"fillmode\":\"overlay\",\"size\":10,\"solidity\":0.2}},\"type\":\"histogram\"}],\"scattergl\":[{\"type\":\"scattergl\",\"marker\":{\"colorbar\":{\"outlinewidth\":0,\"ticks\":\"\"}}}],\"scatter3d\":[{\"type\":\"scatter3d\",\"line\":{\"colorbar\":{\"outlinewidth\":0,\"ticks\":\"\"}},\"marker\":{\"colorbar\":{\"outlinewidth\":0,\"ticks\":\"\"}}}],\"scattermapbox\":[{\"type\":\"scattermapbox\",\"marker\":{\"colorbar\":{\"outlinewidth\":0,\"ticks\":\"\"}}}],\"scatterternary\":[{\"type\":\"scatterternary\",\"marker\":{\"colorbar\":{\"outlinewidth\":0,\"ticks\":\"\"}}}],\"scattercarpet\":[{\"type\":\"scattercarpet\",\"marker\":{\"colorbar\":{\"outlinewidth\":0,\"ticks\":\"\"}}}],\"carpet\":[{\"aaxis\":{\"endlinecolor\":\"#2a3f5f\",\"gridcolor\":\"white\",\"linecolor\":\"white\",\"minorgridcolor\":\"white\",\"startlinecolor\":\"#2a3f5f\"},\"baxis\":{\"endlinecolor\":\"#2a3f5f\",\"gridcolor\":\"white\",\"linecolor\":\"white\",\"minorgridcolor\":\"white\",\"startlinecolor\":\"#2a3f5f\"},\"type\":\"carpet\"}],\"table\":[{\"cells\":{\"fill\":{\"color\":\"#EBF0F8\"},\"line\":{\"color\":\"white\"}},\"header\":{\"fill\":{\"color\":\"#C8D4E3\"},\"line\":{\"color\":\"white\"}},\"type\":\"table\"}],\"barpolar\":[{\"marker\":{\"line\":{\"color\":\"#E5ECF6\",\"width\":0.5},\"pattern\":{\"fillmode\":\"overlay\",\"size\":10,\"solidity\":0.2}},\"type\":\"barpolar\"}],\"pie\":[{\"automargin\":true,\"type\":\"pie\"}]},\"layout\":{\"autotypenumbers\":\"strict\",\"colorway\":[\"#636efa\",\"#EF553B\",\"#00cc96\",\"#ab63fa\",\"#FFA15A\",\"#19d3f3\",\"#FF6692\",\"#B6E880\",\"#FF97FF\",\"#FECB52\"],\"font\":{\"color\":\"#2a3f5f\"},\"hovermode\":\"closest\",\"hoverlabel\":{\"align\":\"left\"},\"paper_bgcolor\":\"white\",\"plot_bgcolor\":\"#E5ECF6\",\"polar\":{\"bgcolor\":\"#E5ECF6\",\"angularaxis\":{\"gridcolor\":\"white\",\"linecolor\":\"white\",\"ticks\":\"\"},\"radialaxis\":{\"gridcolor\":\"white\",\"linecolor\":\"white\",\"ticks\":\"\"}},\"ternary\":{\"bgcolor\":\"#E5ECF6\",\"aaxis\":{\"gridcolor\":\"white\",\"linecolor\":\"white\",\"ticks\":\"\"},\"baxis\":{\"gridcolor\":\"white\",\"linecolor\":\"white\",\"ticks\":\"\"},\"caxis\":{\"gridcolor\":\"white\",\"linecolor\":\"white\",\"ticks\":\"\"}},\"coloraxis\":{\"colorbar\":{\"outlinewidth\":0,\"ticks\":\"\"}},\"colorscale\":{\"sequential\":[[0.0,\"#0d0887\"],[0.1111111111111111,\"#46039f\"],[0.2222222222222222,\"#7201a8\"],[0.3333333333333333,\"#9c179e\"],[0.4444444444444444,\"#bd3786\"],[0.5555555555555556,\"#d8576b\"],[0.6666666666666666,\"#ed7953\"],[0.7777777777777778,\"#fb9f3a\"],[0.8888888888888888,\"#fdca26\"],[1.0,\"#f0f921\"]],\"sequentialminus\":[[0.0,\"#0d0887\"],[0.1111111111111111,\"#46039f\"],[0.2222222222222222,\"#7201a8\"],[0.3333333333333333,\"#9c179e\"],[0.4444444444444444,\"#bd3786\"],[0.5555555555555556,\"#d8576b\"],[0.6666666666666666,\"#ed7953\"],[0.7777777777777778,\"#fb9f3a\"],[0.8888888888888888,\"#fdca26\"],[1.0,\"#f0f921\"]],\"diverging\":[[0,\"#8e0152\"],[0.1,\"#c51b7d\"],[0.2,\"#de77ae\"],[0.3,\"#f1b6da\"],[0.4,\"#fde0ef\"],[0.5,\"#f7f7f7\"],[0.6,\"#e6f5d0\"],[0.7,\"#b8e186\"],[0.8,\"#7fbc41\"],[0.9,\"#4d9221\"],[1,\"#276419\"]]},\"xaxis\":{\"gridcolor\":\"white\",\"linecolor\":\"white\",\"ticks\":\"\",\"title\":{\"standoff\":15},\"zerolinecolor\":\"white\",\"automargin\":true,\"zerolinewidth\":2},\"yaxis\":{\"gridcolor\":\"white\",\"linecolor\":\"white\",\"ticks\":\"\",\"title\":{\"standoff\":15},\"zerolinecolor\":\"white\",\"automargin\":true,\"zerolinewidth\":2},\"scene\":{\"xaxis\":{\"backgroundcolor\":\"#E5ECF6\",\"gridcolor\":\"white\",\"linecolor\":\"white\",\"showbackground\":true,\"ticks\":\"\",\"zerolinecolor\":\"white\",\"gridwidth\":2},\"yaxis\":{\"backgroundcolor\":\"#E5ECF6\",\"gridcolor\":\"white\",\"linecolor\":\"white\",\"showbackground\":true,\"ticks\":\"\",\"zerolinecolor\":\"white\",\"gridwidth\":2},\"zaxis\":{\"backgroundcolor\":\"#E5ECF6\",\"gridcolor\":\"white\",\"linecolor\":\"white\",\"showbackground\":true,\"ticks\":\"\",\"zerolinecolor\":\"white\",\"gridwidth\":2}},\"shapedefaults\":{\"line\":{\"color\":\"#2a3f5f\"}},\"annotationdefaults\":{\"arrowcolor\":\"#2a3f5f\",\"arrowhead\":0,\"arrowwidth\":1},\"geo\":{\"bgcolor\":\"white\",\"landcolor\":\"#E5ECF6\",\"subunitcolor\":\"white\",\"showland\":true,\"showlakes\":true,\"lakecolor\":\"white\"},\"title\":{\"x\":0.05},\"mapbox\":{\"style\":\"light\"}}},\"xaxis\":{\"anchor\":\"y\",\"domain\":[0.0,1.0],\"title\":{\"text\":\"Principal Component 1\"}},\"yaxis\":{\"anchor\":\"x\",\"domain\":[0.0,1.0],\"title\":{\"text\":\"Principal Component 2\"}},\"legend\":{\"tracegroupgap\":0},\"margin\":{\"t\":60},\"title\":{\"text\":\"PCA Scatter Plot\"},\"width\":1300,\"height\":1300},                        {\"responsive\": true}                    ).then(function(){\n                            \nvar gd = document.getElementById('7117b9e4-393e-4d62-a301-9fc15ee70221');\nvar x = new MutationObserver(function (mutations, observer) {{\n        var display = window.getComputedStyle(gd).display;\n        if (!display || display === 'none') {{\n            console.log([gd, 'removed!']);\n            Plotly.purge(gd);\n            observer.disconnect();\n        }}\n}});\n\n// Listen for the removal of the full notebook cells\nvar notebookContainer = gd.closest('#notebook-container');\nif (notebookContainer) {{\n    x.observe(notebookContainer, {childList: true});\n}}\n\n// Listen for the clearing of the current output cell\nvar outputEl = gd.closest('.output');\nif (outputEl) {{\n    x.observe(outputEl, {childList: true});\n}}\n\n                        })                };                });            </script>        </div>"
     },
     "metadata": {},
     "output_type": "display_data"
    }
   ],
   "source": [
    "import plotly.express as px\n",
    "\n",
    "# Create a DataFrame with the PCA results\n",
    "df = pd.DataFrame(data=x_pca, columns=['Principal Component 1', 'Principal Component 2'])\n",
    "df['Category'] = y\n",
    "\n",
    "# Create an interactive scatter plot with hover labels using Plotly\n",
    "fig = px.scatter(df, x='Principal Component 1', y='Principal Component 2', hover_data=['Category'])\n",
    "\n",
    "# Update the layout of the figure\n",
    "fig.update_layout(\n",
    "    title='PCA Scatter Plot',\n",
    "    xaxis_title='Principal Component 1',\n",
    "    yaxis_title='Principal Component 2',\n",
    ")\n",
    "\n",
    "fig.update_layout(width=1300, height=1300)\n",
    "\n",
    "# Display the figure\n",
    "fig.show()"
   ],
   "metadata": {
    "collapsed": false
   }
  }
 ],
 "metadata": {
  "kernelspec": {
   "display_name": "Python 3",
   "language": "python",
   "name": "python3"
  },
  "language_info": {
   "codemirror_mode": {
    "name": "ipython",
    "version": 2
   },
   "file_extension": ".py",
   "mimetype": "text/x-python",
   "name": "python",
   "nbconvert_exporter": "python",
   "pygments_lexer": "ipython2",
   "version": "2.7.6"
  }
 },
 "nbformat": 4,
 "nbformat_minor": 0
}
